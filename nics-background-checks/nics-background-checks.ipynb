{
 "cells": [
  {
   "cell_type": "markdown",
   "metadata": {},
   "source": [
    "Created by: [SmirkyGraphs](https://smirkygraphs.github.io/). Code: [Github](https://github.com/SmirkyGraphs/Python-Notebooks). Source: [FBI NICS](https://www.fbi.gov/file-repository/nics_firearm_checks_-_month_year_by_state_type.pdf/view) | [BuzzfeedNews](https://github.com/BuzzFeedNews/nics-firearm-background-checks/blob/master/data/nics-firearm-background-checks.csv).\n",
    "<hr>"
   ]
  },
  {
   "cell_type": "markdown",
   "metadata": {},
   "source": [
    "# Rhode Island NICS Background Checks\n",
    "\n",
    "This Notebook contains code releated to the data cleaning for my [Tableau dashboard](https://public.tableau.com/profile/smirkygraphs#!/vizhome/RhodeIslandNICSBackgroundChecks/main). The code automatically downloads the most recent data from BuzzfeedNew's Github which parses the monthly PDF's from the FBI NICS. The data is shaped for use in Tableau (tall instead of wide) and cleaned up a bit. Additionally at the bottom their is code that will rank all states by their YoY increase and YTD increase. An issue with this is that every state has different laws so comparing is difficult, for example Kentucky does a recheck on every permit every month.\n",
    "\n",
    "<hr>"
   ]
  },
  {
   "cell_type": "code",
   "execution_count": 1,
   "metadata": {},
   "outputs": [],
   "source": [
    "import pandas as pd\n",
    "from pathlib import Path"
   ]
  },
  {
   "cell_type": "code",
   "execution_count": 2,
   "metadata": {},
   "outputs": [],
   "source": [
    "# make file paths\n",
    "Path(\"./data/raw\").mkdir(parents=True, exist_ok=True)\n",
    "Path(\"./data/clean\").mkdir(parents=True, exist_ok=True)\n",
    "\n",
    "# download data from github\n",
    "file = 'nics-firearm-background-checks/master/data/nics-firearm-background-checks.csv'\n",
    "df = pd.read_csv(f'https://raw.githubusercontent.com/BuzzFeedNews/{file}')\n",
    "df.to_csv('./data/raw/nics-firearm-background-checks.csv', index=False)"
   ]
  },
  {
   "cell_type": "code",
   "execution_count": 3,
   "metadata": {},
   "outputs": [],
   "source": [
    "# load data and filter for rhode island\n",
    "df = pd.read_csv('./data/raw/nics-firearm-background-checks.csv', parse_dates=['month'])\n",
    "\n",
    "# melt (pivot) data turning it from wide to long for tableau & remove total\n",
    "df = df.drop(columns=['totals']).rename(columns={'month':'date'})\n",
    "df = df.melt(id_vars=['state', 'date'])\n",
    "\n",
    "# add sales type\n",
    "types = ['prepawn', 'redemption', 'returned', 'rentals', 'private_sale', 'return_to_seller']\n",
    "for sale_type in types:\n",
    "    df.loc[df['variable'].str.startswith(sale_type), 'type'] = sale_type\n",
    "df['type'] = df['type'].fillna('FFL/LEA')\n",
    "\n",
    "# remove 1998 as it only has nov/dec\n",
    "df = df[df['date'].dt.year > 1998]\n",
    "\n",
    "# add weapon style\n",
    "df.loc[df['variable'].str.startswith('permit'), 'style'] = 'permit'\n",
    "df.loc[df['variable'].str.endswith('handgun'), 'style'] = 'handgun'\n",
    "df.loc[df['variable'].str.endswith('long_gun'), 'style'] = 'long_gun'\n",
    "df.loc[df['variable'].str.endswith('other'), 'style'] = 'other'\n",
    "df.loc[df['variable'] == 'multiple', 'style'] = 'multiple'\n",
    "df.loc[df['variable'] == 'admin', 'style'] = 'admin'\n",
    "\n",
    "# save rhode island extract\n",
    "ri = df[df['state']=='Rhode Island']\n",
    "ri.to_csv('./data/clean/ri-nics-firearm-clean.csv', index=False)"
   ]
  },
  {
   "cell_type": "code",
   "execution_count": 4,
   "metadata": {},
   "outputs": [],
   "source": [
    "# drop unwanted states & keep states + dc\n",
    "drop = ['Guam', 'Mariana Islands', 'Puerto Rico', 'Virgin Islands']\n",
    "states = [x for x in df['state'].unique().tolist() if x not in drop]\n",
    "df = df[df['state'].isin(states)]\n",
    "\n",
    "# save all states data\n",
    "df.to_csv('./data/clean/nics-firearm-clean.csv', index=False)\n",
    "\n",
    "# get percent change from prior year (full and ytd)\n",
    "def full_ranks(df):\n",
    "    df = df.groupby([df['state'], df['date'].dt.year]).sum()\n",
    "    df['pct'] = df.pct_change()\n",
    "    \n",
    "    df = df.rename(columns={'value': 'fy_value', 'pct': 'fy_pct'})\n",
    "    \n",
    "    return df\n",
    "\n",
    "def ytd_ranks(df):\n",
    "    # filter all years to current month\n",
    "    df = df[df['date'].dt.month <= df['date'].max().month]\n",
    "    df = df.groupby([df['state'], df['date'].dt.year]).sum()\n",
    "    df['pct'] = df.pct_change()\n",
    "    \n",
    "    df = df.rename(columns={'value': 'ytd_value', 'pct': 'ytd_pct'})\n",
    "    \n",
    "    return df\n",
    "\n",
    "# combine and save\n",
    "fy_df = full_ranks(df)\n",
    "ytd_df = ytd_ranks(df)\n",
    "df = pd.concat([fy_df, ytd_df], axis=1).reset_index()\n",
    "df.to_csv('./data/clean/state-ranks.csv', index=False)"
   ]
  }
 ],
 "metadata": {
  "kernelspec": {
   "display_name": "Python 3",
   "language": "python",
   "name": "python3"
  },
  "language_info": {
   "codemirror_mode": {
    "name": "ipython",
    "version": 3
   },
   "file_extension": ".py",
   "mimetype": "text/x-python",
   "name": "python",
   "nbconvert_exporter": "python",
   "pygments_lexer": "ipython3",
   "version": "3.9.5"
  }
 },
 "nbformat": 4,
 "nbformat_minor": 2
}
