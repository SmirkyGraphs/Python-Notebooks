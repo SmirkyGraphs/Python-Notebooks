{
 "cells": [
  {
   "cell_type": "markdown",
   "id": "cac31ec3",
   "metadata": {},
   "source": [
    "Created by: [SmirkyGraphs](https://smirkygraphs.github.io/). Code: [Github](https://github.com/SmirkyGraphs/Python-Notebooks). Source: [NHL API](https://gitlab.com/dword4/nhlapi).\n",
    "<hr>"
   ]
  },
  {
   "cell_type": "markdown",
   "id": "1aef9576",
   "metadata": {},
   "source": [
    "# NHL Team Timeouts - 2020-21 Season\n",
    "\n",
    "Nearing the end of the season during playoffs, one of the Tampa Bay's games against Montreal had a pretty early timeout `2021-07-03` the 196th timeout of the season was called by Montreal after falling down by 2 in the 1st period in game 3. The commentators started talking about how while rare, many teams end up losing a game and never even using their timeout at all. \n",
    "\n",
    "This stuck with me so I decided to find any potentially interesting fact about timeouts that I could for the 2020-21 season. I chose to stick to just a single season rather then multiple seasons as previously failed coaches challenges lead to a loss of a timeout and didn't want to mix the data.\n",
    " \n",
    "This code below is used to get the `team totals` and the `weekly timeouts`. The weekly timeouts is used to see if the overall percent of timeouts being used increased later into the season (playoffs) and groups games and timeouts by [ISO-8601 Week Number](https://en.wikipedia.org/wiki/ISO_8601). The team totals simply adds up the total games played by each team and how often they called a timeout.\n",
    "\n",
    "<hr>"
   ]
  },
  {
   "cell_type": "code",
   "execution_count": 1,
   "id": "26fad8d0",
   "metadata": {},
   "outputs": [],
   "source": [
    "import pandas as pd"
   ]
  },
  {
   "cell_type": "code",
   "execution_count": 2,
   "id": "7805af1a",
   "metadata": {},
   "outputs": [],
   "source": [
    "# load game data and add week number too games\n",
    "games = pd.read_csv('../data/clean/game_data.csv', parse_dates=['dateTime', 'endDateTime'])\n",
    "games['week_num'] = games['dateTime'].dt.isocalendar().week\n",
    "\n",
    "# load timeout data\n",
    "timeout = pd.read_csv('../data/clean/timeouts_clean.csv')\n",
    "timeout = timeout[['game_id', 'timeout_team']]\n",
    "timeout = timeout.rename(columns={\"game_id\": \"pk\", \"timeout_team\": \"team\"})\n",
    "timeout['timeout'] = True"
   ]
  },
  {
   "cell_type": "code",
   "execution_count": 3,
   "id": "7cb03b23",
   "metadata": {},
   "outputs": [],
   "source": [
    "id_vars = [x for x in list(games) if not x.endswith('_team')]\n",
    "df = games.melt(id_vars=id_vars)\n",
    "\n",
    "df.loc[(df['winner'] == 'home') & (df['variable'] == 'home_team'), 'outcome'] = 'win'\n",
    "df.loc[(df['winner'] == 'away') & (df['variable'] == 'away_team'), 'outcome'] = 'win'\n",
    "df['outcome'] = df['outcome'].fillna('lose')\n",
    "\n",
    "# change value to team\n",
    "df = df.rename(columns={'value': 'team'})\n",
    "\n",
    "# merge timeouts with data\n",
    "df = df.merge(timeout, how='left', on=['pk', 'team'])\n",
    "df['timeout'] = df['timeout'].fillna(False)\n",
    "\n",
    "# get team totals\n",
    "team_totals = (df\n",
    "    .groupby(['team', 'outcome'], as_index=False)['outcome'].size()\n",
    "    .pivot_table(index='team', columns='outcome')\n",
    "    .xs('size', axis=1, drop_level=True)\n",
    "    .reset_index().rename(columns={'value': 'team'})\n",
    "    .assign(total=df.groupby(['team']).size().values)\n",
    "    .assign(timeouts=df.groupby(['team'])['timeout'].sum().values)\n",
    ")\n",
    "\n",
    "# get totals by season week num\n",
    "weekly_timeout = timeout.groupby('pk', as_index=False)['timeout'].sum()\n",
    "weekly = games.merge(weekly_timeout, how='left', on='pk').fillna(0)\n",
    "weekly = weekly.groupby('week_num')['timeout'].agg(['size', 'sum']).reset_index()\n",
    "weekly['size'] = weekly['size'] * 2 # 2 timeouts per game (one each team)\n",
    "weekly = weekly.rename(columns={'size': 'available_timeouts', 'sum': 'used_timeouts'})\n",
    "\n",
    "# get percentages for both weekly and teams\n",
    "weekly['percent_used'] = weekly['used_timeouts'] / weekly['available_timeouts']\n",
    "team_totals['pct_timeouts'] = team_totals['timeouts'] / team_totals['total']\n",
    "\n",
    "weekly.to_csv('../data/clean/weekly_timeouts.csv', index=False)\n",
    "team_totals.to_csv('../data/clean/team_timeouts.csv', index=False)"
   ]
  }
 ],
 "metadata": {
  "kernelspec": {
   "display_name": "Python 3 (ipykernel)",
   "language": "python",
   "name": "python3"
  },
  "language_info": {
   "codemirror_mode": {
    "name": "ipython",
    "version": 3
   },
   "file_extension": ".py",
   "mimetype": "text/x-python",
   "name": "python",
   "nbconvert_exporter": "python",
   "pygments_lexer": "ipython3",
   "version": "3.9.5"
  }
 },
 "nbformat": 4,
 "nbformat_minor": 5
}
