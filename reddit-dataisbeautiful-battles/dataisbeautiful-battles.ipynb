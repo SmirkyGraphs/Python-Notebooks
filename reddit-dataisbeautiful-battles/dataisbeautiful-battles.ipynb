{
 "cells": [
  {
   "cell_type": "markdown",
   "metadata": {},
   "source": [
    "Created by [SmirkyGraphs](https://smirkygraphs.github.io/). Code: [Github](https://github.com/SmirkyGraphs/Python-Notebooks). Source: [/r/dataisbeautiful](https://www.reddit.com/r/dataisbeautiful).\n",
    "<hr>"
   ]
  },
  {
   "cell_type": "markdown",
   "metadata": {},
   "source": [
    "# /r/DataIsBeautiful Monthly Battles"
   ]
  },
  {
   "cell_type": "markdown",
   "metadata": {},
   "source": [
    "The subreddit /r/dataisbeautiful holds monthly competitions were participants are challenged to created a visualization using a specific dataset chosen for the month for a chance at [Reddit gold](https://www.reddit.com/coins). This notebook contains the code I used to collect and clean information on entries for every competition using [praw](https://praw.readthedocs.io/en/latest/) a Python API wrapper for reddit.com.\n",
    "\n",
    "I was mostly interested in seeing which competitions were the most popular and interested new users so I limited multiple entries to only the first submitted one. This is by no means an \"official\" count, as deleted posts won't be counted twords any totals. Lastly all time was UTC coverted to EST, the time used for the subreddit."
   ]
  },
  {
   "cell_type": "code",
   "execution_count": 1,
   "metadata": {},
   "outputs": [],
   "source": [
    "import praw\n",
    "import json\n",
    "import pandas as pd\n",
    "import datetime as dt\n",
    "from bs4 import BeautifulSoup"
   ]
  },
  {
   "cell_type": "code",
   "execution_count": 2,
   "metadata": {},
   "outputs": [],
   "source": [
    "def get_monthly_battles(battles):\n",
    "    data = {}\n",
    "    for x in sub.search(battles, limit=50):\n",
    "\n",
    "        # get month\n",
    "        date = dt.datetime.fromtimestamp(x.created_utc)\n",
    "        month = f'{date.month}-{date.year}'\n",
    "\n",
    "        # get title\n",
    "        title = x.title\n",
    "        title = title.split(': ')[-1]\n",
    "\n",
    "        # add values\n",
    "        data.setdefault('id', []).append(x.id)\n",
    "        data.setdefault('date_id', []).append(month)\n",
    "        data.setdefault('date_posted', []).append(date)\n",
    "        data.setdefault('title', []).append(title)\n",
    "        \n",
    "        df = pd.DataFrame(data)\n",
    "        \n",
    "    return df"
   ]
  },
  {
   "cell_type": "code",
   "execution_count": 3,
   "metadata": {},
   "outputs": [],
   "source": [
    "def get_winners(html, date):\n",
    "    data = {}\n",
    "    soup = BeautifulSoup(html, 'lxml')\n",
    "    hrefs = soup.find_all('a')\n",
    "    lists = [x['href'] for x in hrefs]\n",
    "    \n",
    "    matchers = ['/u/','https:/']\n",
    "    matching = [x for x in lists if any(y in x for y in matchers)]\n",
    "\n",
    "    prior = 'placeholder'\n",
    "    for m in matching:\n",
    "        if not prior.startswith('/u/'):\n",
    "            prior = m\n",
    "            pass\n",
    "        else:\n",
    "            prior = m\n",
    "\n",
    "        if m.startswith('/u/'):\n",
    "            data.setdefault('user', []).append(m[3:])\n",
    "            \n",
    "    df = pd.DataFrame(data)\n",
    "    \n",
    "    # add winner\n",
    "    df['award'] = 'honorable momention'\n",
    "    df.iloc[0, 1] = 'winner'\n",
    "    \n",
    "    # add date\n",
    "    prior = dt.datetime.strptime(date, '%m-%Y')\n",
    "    prior = prior - dt.timedelta(days=1)\n",
    "    prior_month = f'{prior.month}-{prior.year}'\n",
    "    \n",
    "    df['date_id'] = prior_month\n",
    "    \n",
    "    return df"
   ]
  },
  {
   "cell_type": "code",
   "execution_count": 4,
   "metadata": {},
   "outputs": [],
   "source": [
    "def get_entries(entry, date):\n",
    "    data = {}\n",
    "    data.setdefault('user', []).append(str(entry.author))\n",
    "    data.setdefault('date_id', []).append(date)\n",
    "    data.setdefault('upvotes', []).append(entry.ups)\n",
    "\n",
    "    # get day posted\n",
    "    ts = dt.datetime.fromtimestamp(entry.created_utc)\n",
    "    data.setdefault('date_entry', []).append(ts)\n",
    "\n",
    "    # get first link in entry\n",
    "    soup = BeautifulSoup(entry.body_html, 'lxml')\n",
    "    hrefs = soup.find_all('a')\n",
    "    if len(hrefs) > 0:\n",
    "        link = [x['href'] for x in hrefs][:1][0]\n",
    "    else:\n",
    "        link = 'N/A'\n",
    "    data.setdefault('link', []).append(link)\n",
    "\n",
    "    return data"
   ]
  },
  {
   "cell_type": "code",
   "execution_count": 5,
   "metadata": {},
   "outputs": [],
   "source": [
    "# setup praw\n",
    "with open('config.json', 'r') as f:\n",
    "    config = json.load(f)\n",
    "    \n",
    "reddit = praw.Reddit(\n",
    "    client_id= config['client_id'],\n",
    "    client_secret = config['client_secret'],\n",
    "    user_agent = config['user_agent']\n",
    ")"
   ]
  },
  {
   "cell_type": "code",
   "execution_count": 6,
   "metadata": {},
   "outputs": [],
   "source": [
    "# search for monthly battles\n",
    "sub = reddit.subreddit(\"dataisbeautiful\")\n",
    "battles = 'author:AutoModerator title:\"Battle for the month of\"'\n",
    "\n",
    "# get a dataframe of battles \n",
    "battle_df = get_monthly_battles(battles)\n",
    "battles = battle_df.to_dict(orient='records')\n",
    "\n",
    "# lists to hold dataframes\n",
    "win_frame = []\n",
    "entries = []\n",
    "\n",
    "# loop through battles collecting information\n",
    "for battle in battles:\n",
    "    date = battle['date_id']\n",
    "    title = battle['title']\n",
    "    submission = reddit.submission(id=battle['id'])\n",
    "    \n",
    "    counter = 0\n",
    "    for entry in submission.comments:\n",
    "        # get winners for prior month\n",
    "        if counter == 0 and date != '1-2018':\n",
    "            winners = entry.body_html\n",
    "            winners = get_winners(winners, date)\n",
    "            win_frame.append(winners)\n",
    "            \n",
    "        # get info on entry if entry wasnt deleted\n",
    "        elif entry.author and counter != 0:\n",
    "            data = get_entries(entry, date)\n",
    "            df = pd.DataFrame(data)\n",
    "            entries.append(df)\n",
    "        \n",
    "        # add to count\n",
    "        counter += 1\n",
    "        \n",
    "win_df = pd.concat(win_frame)\n",
    "entry_df = pd.concat(entries)"
   ]
  },
  {
   "cell_type": "code",
   "execution_count": 7,
   "metadata": {},
   "outputs": [],
   "source": [
    "# save raw files\n",
    "entry_df.to_csv('./data/raw/entries.csv', index=False)\n",
    "win_df.to_csv('./data/raw/winners.csv', index=False)\n",
    "battle_df.to_csv('./data/raw/competitions.csv', index=False)"
   ]
  },
  {
   "cell_type": "code",
   "execution_count": 8,
   "metadata": {
    "scrolled": false
   },
   "outputs": [],
   "source": [
    "# get winners in the main dataframe\n",
    "df = entry_df.merge(win_df, on=['user', 'date_id'], how='left')\n",
    "\n",
    "# get information on the competition in the main dataframe\n",
    "df = df.merge(battle_df, on='date_id', how='left')"
   ]
  },
  {
   "cell_type": "code",
   "execution_count": 9,
   "metadata": {},
   "outputs": [],
   "source": [
    "# covert time to est (the default for /r/dataisbeautiful)\n",
    "df['date_entry'] = df['date_entry'].dt.tz_localize('US/Eastern')\n",
    "df['date_posted'] = df['date_posted'].dt.tz_localize('US/Eastern')\n",
    "\n",
    "# get the number of days after a competition posted that the user submitted \n",
    "df['days_till_entered'] = (df['date_entry'] - df['date_posted'])\n",
    "df['days_till_entered'] = df['days_till_entered'].apply(lambda x: x.components.days)\n",
    "\n",
    "# keep only first entry if more the one submissions\n",
    "df = df.drop_duplicates(subset=['user', 'date_id'], keep='first')"
   ]
  },
  {
   "cell_type": "code",
   "execution_count": 10,
   "metadata": {},
   "outputs": [],
   "source": [
    "# get a dataframe of unique first-time posters\n",
    "users_df = df.groupby(['date_id', 'date_posted'])['user'].apply(lambda x: list(set(x))).reset_index()\n",
    "users_df = users_df.sort_values(by='date_posted')\n",
    "\n",
    "data = {}\n",
    "master_list = []\n",
    "for i, row in users_df.iterrows():\n",
    "    current = row['user']\n",
    "    \n",
    "    # get count of users never before entered\n",
    "    new_users = [x for x in current if x not in master_list]\n",
    "    [master_list.append(x) for x in current if x not in master_list]\n",
    "    \n",
    "    data.setdefault('date_id', []).append(row['date_id'])\n",
    "    data.setdefault('new_users', []).append(len(new_users))\n",
    "\n",
    "users_df = pd.DataFrame(data)"
   ]
  },
  {
   "cell_type": "code",
   "execution_count": 11,
   "metadata": {},
   "outputs": [],
   "source": [
    "# merge new_users into battle_df\n",
    "battle_df = battle_df.merge(users_df, on='date_id', how='left')\n",
    "\n",
    "# merge total_entries into battle_df\n",
    "total_entries = df.groupby(['date_id']).size().reset_index(name='total_entries')\n",
    "battle_df = battle_df.merge(total_entries, on='date_id', how='left')"
   ]
  },
  {
   "cell_type": "code",
   "execution_count": 12,
   "metadata": {},
   "outputs": [],
   "source": [
    "# save cleaned/merged files\n",
    "df.to_csv('./data/clean/dataisbeautiful_entries.csv', index=False)\n",
    "battle_df.to_csv('./data/clean/dataisbeautiful_competitions.csv', index=False)"
   ]
  }
 ],
 "metadata": {
  "kernelspec": {
   "display_name": "Python 3",
   "language": "python",
   "name": "python3"
  },
  "language_info": {
   "codemirror_mode": {
    "name": "ipython",
    "version": 3
   },
   "file_extension": ".py",
   "mimetype": "text/x-python",
   "name": "python",
   "nbconvert_exporter": "python",
   "pygments_lexer": "ipython3",
   "version": "3.9.5"
  }
 },
 "nbformat": 4,
 "nbformat_minor": 2
}
