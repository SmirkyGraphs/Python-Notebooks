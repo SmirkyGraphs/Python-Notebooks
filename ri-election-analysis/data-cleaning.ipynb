{
 "cells": [
  {
   "cell_type": "markdown",
   "metadata": {},
   "source": [
    "Created by [SmirkyGraphs](http://smirkygraphs.github.io/). Code: [GitHub](https://github.com/SmirkyGraphs/Python-Notebooks). Source: [RI BOE](https://elections.ri.gov/elections/preresults/index.php).\n",
    "<hr>"
   ]
  },
  {
   "cell_type": "markdown",
   "metadata": {},
   "source": [
    "# RI Election Data Cleaning"
   ]
  },
  {
   "cell_type": "markdown",
   "metadata": {},
   "source": [
    "This notebook contains code used to normalize all election results data from Rhode Island Board of Elections since 2010. Column names are normalized using the \"rename_cols\" dictonary and some other minor tweaks like uppercasing fields and stripping excess whitespace. The data is then saved into the clean folder for use in the \"reports\" notebook which filters & performs calculations for analysis on the data.\n",
    "\n",
    "<hr>"
   ]
  },
  {
   "cell_type": "code",
   "execution_count": 1,
   "metadata": {},
   "outputs": [],
   "source": [
    "import re\n",
    "import pandas as pd\n",
    "import glob as glob"
   ]
  },
  {
   "cell_type": "code",
   "execution_count": 2,
   "metadata": {},
   "outputs": [],
   "source": [
    "def shape_file(fname):\n",
    "    df = pd.read_excel(fname)\n",
    "\n",
    "    rename_cols = {\n",
    "        'Total': 'Total Votes',\n",
    "        'E Day': 'Election Day',\n",
    "        'Mail': 'Mail Ballots',\n",
    "        'Contest Title': \"Contest\",\n",
    "        \"Office Title\": \"Contest\",\n",
    "        \"Candidate Name\": \"Candidate\",\n",
    "        'City/Town': 'Precinct Name',\n",
    "        \"Electon Day\": \"Election Day\",\n",
    "        \"Party Code\": \"Party\"\n",
    "    }\n",
    "\n",
    "    df = df.rename(columns=rename_cols)\n",
    "\n",
    "    if 'Precinct #' in list(df):\n",
    "        df = df.rename(columns={'Precinct': 'Precinct Name'})\n",
    "    elif 'Precinct #' not in list(df) and 'Precinct Name' in list(df):\n",
    "        df = df.rename(columns={'Precinct': 'Precinct #'})\n",
    "        \n",
    "\n",
    "    # remove unwanted columns\n",
    "    cols = [x for x in list(df) if not x.startswith('Unnamed')]\n",
    "    df = df[cols]\n",
    "\n",
    "    drop_cols = ['District Type', 'District Code', 'Vote for', 'Vote For']\n",
    "    cols = [x for x in list(df) if x not in drop_cols]\n",
    "    df = df[cols]\n",
    "    \n",
    "    # add election info\n",
    "    election = fname[14:26].split('_')\n",
    "    df['election'] = election[0]\n",
    "    df['year'] = election[1]\n",
    "    \n",
    "    return df\n",
    "\n",
    "def clean_name(name: str) -> str:\n",
    "    name = str(name).upper()\n",
    "    name = re.sub('\\s+',' ', name)\n",
    "    \n",
    "    return name\n",
    "\n",
    "def normalize_precinct(name: str) -> str:\n",
    "    name = name.replace('PRECINCT #', 'DISTRICT ')\n",
    "    name = name.replace('PRESIDENTIAL', 'PRESIDENT')\n",
    "    \n",
    "    return name\n",
    "\n",
    "def precinct_name(name: str) -> str:\n",
    "    name = name.replace(' LIMITED', '')\n",
    "    name = name.replace(' PRESIDENT', '')\n",
    "    name = name.replace(' DIST', '')\n",
    "    name = re.sub(r'\\d+', '', name)\n",
    "    \n",
    "    return name.strip()"
   ]
  },
  {
   "cell_type": "code",
   "execution_count": 3,
   "metadata": {},
   "outputs": [],
   "source": [
    "files = glob.glob('./data/raw/*')\n",
    "data = []\n",
    "for f in files:\n",
    "    df = shape_file(f)\n",
    "    data.append(df)\n",
    "    \n",
    "df = pd.concat(data)"
   ]
  },
  {
   "cell_type": "code",
   "execution_count": 4,
   "metadata": {},
   "outputs": [],
   "source": [
    "# normalize names\n",
    "df['Contest'] = df['Contest'].apply(clean_name)\n",
    "df['Candidate'] = df['Candidate'].apply(clean_name)\n",
    "df['Precinct Name'] = df['Precinct Name'].apply(clean_name).apply(normalize_precinct)"
   ]
  },
  {
   "cell_type": "code",
   "execution_count": 5,
   "metadata": {},
   "outputs": [],
   "source": [
    "# 0 pad precinct numbers\n",
    "df['Precinct #'] = df['Precinct #'].apply(lambda x: str(x).zfill(4))\n",
    "\n",
    "# add city/town\n",
    "df['City/Town'] = df['Precinct Name'].apply(precinct_name)"
   ]
  },
  {
   "cell_type": "code",
   "execution_count": 6,
   "metadata": {},
   "outputs": [],
   "source": [
    "# save output\n",
    "df.to_csv('./data/clean/election_results.csv', index=False)"
   ]
  }
 ],
 "metadata": {
  "kernelspec": {
   "display_name": "Python 3",
   "language": "python",
   "name": "python3"
  },
  "language_info": {
   "codemirror_mode": {
    "name": "ipython",
    "version": 3
   },
   "file_extension": ".py",
   "mimetype": "text/x-python",
   "name": "python",
   "nbconvert_exporter": "python",
   "pygments_lexer": "ipython3",
   "version": "3.6.5"
  }
 },
 "nbformat": 4,
 "nbformat_minor": 2
}
