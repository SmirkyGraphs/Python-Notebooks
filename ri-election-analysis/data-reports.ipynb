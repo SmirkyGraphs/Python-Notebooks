{
 "cells": [
  {
   "cell_type": "markdown",
   "metadata": {},
   "source": [
    "Created by [SmirkyGraphs](http://smirkygraphs.github.io/). Code: [GitHub](https://github.com/SmirkyGraphs/Python-Notebooks). Source: [RI BOE](https://elections.ri.gov/elections/preresults/index.php).\n",
    "<hr>"
   ]
  },
  {
   "cell_type": "markdown",
   "metadata": {},
   "source": [
    "# RI Election Data Reports"
   ]
  },
  {
   "cell_type": "markdown",
   "metadata": {},
   "source": [
    "This notebook contains code used to find out information regarding Rhode Island elections. Including things like turnout aggregated by statewide, city, precinct and individual contests. Aswell as some interesting things like how people cast their ballots (mail/ballot), closest elections, endorsed candidates who lost and elections with results canged by mail-in ballots.\n",
    "\n",
    "<hr>"
   ]
  },
  {
   "cell_type": "code",
   "execution_count": 1,
   "metadata": {},
   "outputs": [],
   "source": [
    "import pandas as pd"
   ]
  },
  {
   "cell_type": "code",
   "execution_count": 2,
   "metadata": {},
   "outputs": [],
   "source": [
    "df = pd.read_csv('./data/clean/election_results.csv', dtype={'Precinct #': str})"
   ]
  },
  {
   "cell_type": "code",
   "execution_count": 3,
   "metadata": {},
   "outputs": [],
   "source": [
    "# get total votes cast & registered voters\n",
    "tv = df[df['Contest']=='BALLOTS CAST - TOTAL']\n",
    "reg = df[df['Contest']=='REGISTERED VOTERS - TOTAL']"
   ]
  },
  {
   "cell_type": "code",
   "execution_count": 4,
   "metadata": {},
   "outputs": [],
   "source": [
    "# data grouped by party info (only available for primary)\n",
    "rep = df[df['Contest']=='BALLOTS CAST - REPUBLICAN']\n",
    "non = df[df['Contest']=='BALLOTS CAST - NONPARTISAN']\n",
    "dem = df[df['Contest']=='BALLOTS CAST - DEMOCRAT']\n",
    "\n",
    "party = pd.concat([rep, non, dem])\n",
    "party = party.groupby(['election', 'Contest', 'year']).sum()\n",
    "party['% - Mail'] = party['Mail Ballots']/party['Total Votes']\n",
    "\n",
    "party.to_csv('./data/reports/vote_by_party.csv')"
   ]
  },
  {
   "cell_type": "code",
   "execution_count": 5,
   "metadata": {},
   "outputs": [],
   "source": [
    "# results by election cycle (2018 primary missing numbers)\n",
    "group = ['election', 'year']\n",
    "ele = tv.groupby(group).sum()\n",
    "\n",
    "ele['% - Mail'] = ele['Mail Ballots']/ele['Total Votes']\n",
    "ele['% - Turnout'] = ele.div(reg.groupby(group).sum())['Total Votes']\n",
    "\n",
    "ele.to_csv('./data/reports/election_report.csv')"
   ]
  },
  {
   "cell_type": "code",
   "execution_count": 6,
   "metadata": {},
   "outputs": [],
   "source": [
    "# results by city/town\n",
    "group = ['City/Town', 'election', 'year']\n",
    "city = tv.groupby(group).sum()\n",
    "\n",
    "# remove federal precinct & state precinct\n",
    "city = city[~city.index.get_level_values(0).str.contains('STATERICT')]\n",
    "city = city[~city.index.get_level_values(0).str.contains('FEDERALRICT')]\n",
    "\n",
    "city['% - Mail'] = city['Mail Ballots']/city['Total Votes']\n",
    "city['% - Turnout'] = city.div(reg.groupby(group).sum())['Total Votes']\n",
    "city['turnout_rank'] = city.groupby(['election', 'year'])['% - Turnout'].rank(ascending=False)\n",
    "\n",
    "city.to_csv('./data/reports/city_report.csv')"
   ]
  },
  {
   "cell_type": "code",
   "execution_count": 7,
   "metadata": {},
   "outputs": [],
   "source": [
    "# results by precinct (2010 removed due to redistricting)\n",
    "group = ['Precinct Name', 'Precinct #', 'election', 'year']\n",
    "pre = tv[tv['year'] != 2010].groupby(group).sum()\n",
    "\n",
    "# remove federal precinct & state precinct\n",
    "pre = pre[~pre.index.get_level_values(0).str.contains(' LIMITED')]\n",
    "pre = pre[~pre.index.get_level_values(0).str.contains(' PRESIDENT')]\n",
    "\n",
    "pre['% - Mail'] = pre['Mail Ballots']/pre['Total Votes']\n",
    "pre['% - Turnout'] = pre.div(reg.groupby(group).sum())['Total Votes']\n",
    "pre['turnout_rank'] = pre.groupby(['election', 'year'])['% - Turnout'].rank(ascending=False)\n",
    "\n",
    "pre.to_csv('./data/reports/precinct_report.csv')"
   ]
  },
  {
   "cell_type": "code",
   "execution_count": 8,
   "metadata": {},
   "outputs": [],
   "source": [
    "# results by contest\n",
    "ct = df[df['year'] == 2020]\n",
    "\n",
    "# remove ballots cast & reg\n",
    "can_remove = ['UNDER VOTES', 'OVER VOTES']\n",
    "\n",
    "con_remove = [\n",
    "    'REGISTERED VOTERS - TOTAL', \n",
    "    'BALLOTS CAST - TOTAL',\n",
    "    'BALLOTS CAST - DEMOCRAT', \n",
    "    'BALLOTS CAST - REPUBLICAN',\n",
    "    'BALLOTS CAST - NONPARTISAN'\n",
    "]\n",
    "\n",
    "ct = ct[(~ct['Contest'].isin(con_remove)) & (~ct['Candidate'].isin(can_remove))]\n",
    "\n",
    "# turnout by contest (looks at both parties)\n",
    "con_tv = tv[tv['year'] == 2020].groupby('Precinct Name')['Total Votes'].sum().rename('Ballots Cast')\n",
    "con_reg = reg[reg['year'] == 2020].groupby('Precinct Name')['Total Votes'].sum().rename('Total Registered')\n",
    "\n",
    "con_turnout = ct.groupby(['election', 'year', 'Contest', 'Precinct Name'])['Total Votes'].sum().reset_index()\n",
    "con_turnout = con_turnout.merge(con_tv, on='Precinct Name').merge(con_reg, on='Precinct Name')\n",
    "\n",
    "con_turnout = con_turnout.groupby(['election', 'year', 'Contest']).sum()\n",
    "con_turnout['turnout - %'] = con_turnout['Ballots Cast'] / con_turnout['Total Registered']\n",
    "con_turnout.to_csv('./data/reports/contest_report.csv')"
   ]
  },
  {
   "cell_type": "code",
   "execution_count": 9,
   "metadata": {},
   "outputs": [],
   "source": [
    "# groupby by contest & candidate totals, sort, and get top 2 candidates \n",
    "ct = ct.groupby(['election', 'year', 'Contest', 'Party', 'Candidate']).sum().reset_index()\n",
    "ct = ct.sort_values(by=['Contest', 'Party', 'Total Votes'], ascending=[True, True, False])\n",
    "\n",
    "# add finishing place in the contest 1 = most votes\n",
    "ct['finished'] = ct.groupby(['election', 'year', 'Contest', 'Party']).cumcount() + 1\n",
    "\n",
    "# add endorsement\n",
    "ct['endorsed'] = ct['Candidate'].str.endswith('*')\n",
    "\n",
    "# get total endorsed by contest -> party\n",
    "tot_endorsed = ct.groupby(['election', 'year', 'Contest', 'Party'])['endorsed'].sum()\n",
    "tot_endorsed.name = 'total_endorsed'\n",
    "\n",
    "# get only contests with 1 person endorsed\n",
    "endorse_loss = ct.merge(tot_endorsed, on=['Contest', 'Party'])\n",
    "endorse_loss = endorse_loss[endorse_loss['total_endorsed'] == 1]\n",
    "\n",
    "# filter for \"didnt come in first\" and \"endorsed\"\n",
    "endorse_loss = endorse_loss[(endorse_loss['finished'] > 1) & (endorse_loss['endorsed'] == True)]\n",
    "endorse_loss.drop(columns=['total_endorsed', 'endorsed']).to_csv('./data/reports/endorsed_loss.csv', index=False)"
   ]
  },
  {
   "cell_type": "code",
   "execution_count": 10,
   "metadata": {},
   "outputs": [],
   "source": [
    "# get run off of top 2 candidates by race\n",
    "top_2 = ct.groupby(['election', 'year', 'Contest', 'Party']).head(2).copy()\n",
    "top_2.loc[top_2['finished']==1, 'finished'] = 'winner'\n",
    "top_2.loc[top_2['finished']==2, 'finished'] = 'runner up'\n",
    "\n",
    "top_2 = top_2.pivot(index=['election', 'year', 'Contest', 'Party'], \n",
    "              values=['Total Votes', 'Election Day', 'Candidate', 'endorsed'], columns='finished')\n",
    "\n",
    "cols = top_2.columns.sortlevel([0, 1], [True, False])[0]\n",
    "top_2 = top_2[cols].drop(columns='endorsed')\n",
    "\n",
    "# get contested turned by mail-in/emergency votings from election day votes\n",
    "turned = top_2[top_2[('Election Day', 'winner')] <= top_2[('Election Day', 'runner up')]]\n",
    "turned.to_csv('./data/reports/election_turned_by_mail.csv')\n",
    "\n",
    "# get vote difference between top 2 candidates\n",
    "top_2['vote_diff'] = top_2[('Total Votes', 'winner')] - top_2[('Total Votes', 'runner up')]\n",
    "top_2 = top_2.sort_values(by='vote_diff').dropna(axis=0, how='any')\n",
    "top_2.head(25).to_csv('./data/reports/closest_elections.csv')"
   ]
  }
 ],
 "metadata": {
  "kernelspec": {
   "display_name": "Python 3",
   "language": "python",
   "name": "python3"
  },
  "language_info": {
   "codemirror_mode": {
    "name": "ipython",
    "version": 3
   },
   "file_extension": ".py",
   "mimetype": "text/x-python",
   "name": "python",
   "nbconvert_exporter": "python",
   "pygments_lexer": "ipython3",
   "version": "3.6.5"
  }
 },
 "nbformat": 4,
 "nbformat_minor": 2
}
