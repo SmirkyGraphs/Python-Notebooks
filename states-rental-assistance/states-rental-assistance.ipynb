{
 "cells": [
  {
   "cell_type": "markdown",
   "id": "daaab42f",
   "metadata": {},
   "source": [
    "Created by: [SmirkyGraphs](https://smirkygraphs.github.io/). Code: [Github](https://github.com/SmirkyGraphs/Python-Notebooks). Source: [US Dept of Treasury](https://home.treasury.gov/policy-issues/coronavirus/assistance-for-state-local-and-tribal-governments/emergency-rental-assistance-program).\n",
    "<hr>"
   ]
  },
  {
   "cell_type": "markdown",
   "id": "58e568e4",
   "metadata": {},
   "source": [
    "# States Emergency Rental Assistance Program\n",
    "\n",
    "During the COVID-19 pandemic 2 programs were enacted to provide rental assistance to help people stay in their homes during the crisis. ERA1 provides up to 25 billion under the Consolidated Appropriations Act, 2021, which was enacted on December 27, 2020. The funds are provided directly to states, U.S. territories, local governments. The currently data does not include any state/local breakdown for ERA2 funding.\n",
    "\n",
    "This Notebook code is used to get the state grand totals, and the state government totals (no cities/counties) from the excel file of data up to July, notably the data is from prior to the rent moratorium ending.\n",
    "\n",
    "<hr>"
   ]
  },
  {
   "cell_type": "code",
   "execution_count": 1,
   "id": "fcccac1f",
   "metadata": {},
   "outputs": [],
   "source": [
    "import pandas as pd\n",
    "import json"
   ]
  },
  {
   "cell_type": "code",
   "execution_count": 2,
   "id": "e1a0bf8e",
   "metadata": {},
   "outputs": [],
   "source": [
    "remove = ['American Samoa', 'Guam', 'Puerto Rico', 'Northern Mariana Islands', 'Virgin Islands']\n",
    "\n",
    "with open('./data/files/states.json', 'r') as f:\n",
    "    states = json.load(f)['states']\n",
    "    names = list(states.keys())\n",
    "    names = [x for x in states if x not in remove]"
   ]
  },
  {
   "cell_type": "code",
   "execution_count": 3,
   "id": "0710748f",
   "metadata": {},
   "outputs": [],
   "source": [
    "df = pd.read_excel('./data/raw/July-ERA-data.xlsx', sheet_name='ERA1 State & Local Reporting', skipfooter=5, skiprows=2)\n",
    "\n",
    "rename_cols = {\n",
    "    'Unnamed: 0': 'location',\n",
    "    'Unnamed: 11': 'total_allocation'\n",
    "}\n",
    "\n",
    "# add grand totals\n",
    "df['total_assistance'] = df[list(df)[1:6]].sum(axis=1)\n",
    "df['total_households'] = df[list(df)[6:11]].sum(axis=1)\n",
    "\n",
    "# rename and keep only wanted columns\n",
    "df = df.rename(columns=rename_cols)\n",
    "df = df[['location', 'total_assistance', 'total_households', 'total_allocation']]\n",
    "\n",
    "# get percent of total allocated spent & not spent total\n",
    "df['pct_spent'] = round(df['total_assistance'] / df['total_allocation'], 4)\n",
    "df['not_spent'] = df['total_allocation'] - df['total_assistance']\n",
    "\n",
    "# get state total rows\n",
    "state_total = df[df['location'].isin(names)].copy()\n",
    "state_total['type'] = 'state_total'\n",
    "\n",
    "# get only state government rows (no local county/city)\n",
    "state_only = df[df['location'].str.contains('^State of|Common')].copy()\n",
    "state_only['type'] = 'state_only'"
   ]
  },
  {
   "cell_type": "code",
   "execution_count": 4,
   "id": "8c8eadc0",
   "metadata": {},
   "outputs": [],
   "source": [
    "# combine datasets, remove prefix, add abbr\n",
    "df = pd.concat([state_only, state_total]).reset_index()\n",
    "df['location'] = df['location'].str.replace('State of ', '').str.replace('Commonwealth of ', '')\n",
    "df['state_abbr'] = df['location'].map(states)\n",
    "\n",
    "# replace 1 of the dc duplicates\n",
    "idx = df[df['state_abbr'] == 'DC'].iloc[0].name\n",
    "df.loc[df.index == idx, 'type'] = 'state_only'\n",
    "\n",
    "df.to_csv('./data/clean/states_rental_assistance.csv', index=False)"
   ]
  }
 ],
 "metadata": {
  "kernelspec": {
   "display_name": "Python 3 (ipykernel)",
   "language": "python",
   "name": "python3"
  },
  "language_info": {
   "codemirror_mode": {
    "name": "ipython",
    "version": 3
   },
   "file_extension": ".py",
   "mimetype": "text/x-python",
   "name": "python",
   "nbconvert_exporter": "python",
   "pygments_lexer": "ipython3",
   "version": "3.9.5"
  }
 },
 "nbformat": 4,
 "nbformat_minor": 5
}
