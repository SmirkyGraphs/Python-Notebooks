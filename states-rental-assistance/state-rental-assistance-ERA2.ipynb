{
 "cells": [
  {
   "cell_type": "markdown",
   "id": "e94a48e0",
   "metadata": {},
   "source": [
    "Created by: [SmirkyGraphs](https://smirkygraphs.github.io/). Code: [Github](https://github.com/SmirkyGraphs/Python-Notebooks). Source: [US Dept of Treasury](https://home.treasury.gov/policy-issues/coronavirus/assistance-for-state-local-and-tribal-governments/emergency-rental-assistance-program).\n",
    "<hr>"
   ]
  },
  {
   "cell_type": "markdown",
   "id": "fe10292e",
   "metadata": {},
   "source": [
    "# States Emergency Rental Assistance Program\n",
    "\n",
    "During the COVID-19 pandemic 2 programs were enacted to provide rental assistance to help people stay in their homes during the crisis. ERA1 provides up to 25 billion under the Consolidated Appropriations Act, 2021, which was enacted on December 27, 2020. The funds are provided directly to states, U.S. territories, local governments.\n",
    "\n",
    "This Notebook code is created after the `state-rental-assistance` notebook and uses a function to ease the collection of the data. This function can then be used for both ERA1 and ERA2 excel sheets to extract the data for usage in Tableau.\n",
    "\n",
    "<hr>"
   ]
  },
  {
   "cell_type": "code",
   "execution_count": 1,
   "id": "43f50ebb",
   "metadata": {},
   "outputs": [],
   "source": [
    "import pandas as pd\n",
    "import json"
   ]
  },
  {
   "cell_type": "code",
   "execution_count": 2,
   "id": "807d9da8",
   "metadata": {},
   "outputs": [],
   "source": [
    "remove = ['American Samoa', 'Guam', 'Puerto Rico', 'Northern Mariana Islands', 'Virgin Islands']\n",
    "\n",
    "with open('./data/files/states.json', 'r') as f:\n",
    "    states = json.load(f)['states']\n",
    "    names = list(states.keys())\n",
    "    names = [x for x in states if x not in remove]"
   ]
  },
  {
   "cell_type": "code",
   "execution_count": 3,
   "id": "64afcb09",
   "metadata": {},
   "outputs": [],
   "source": [
    "def parse_df(df, rename_cols, assist_cols, house_cols, program_type):\n",
    "    \"\"\" Function to extract state totals & state gov numbers from\n",
    "        ERA1 and ERA2 rental assistance programs.\n",
    "    \"\"\"\n",
    "    # add grand totals\n",
    "    df['total_assistance'] = df[assist_cols].sum(axis=1)\n",
    "    df['total_households'] = df[house_cols].sum(axis=1)\n",
    "    \n",
    "    # rename and keep only wanted columns\n",
    "    df = df.rename(columns=rename_cols)\n",
    "    df = df[['location', 'total_assistance', 'total_households', 'total_allocation']]\n",
    "    \n",
    "    # get percent of total allocated spent & not spent total\n",
    "    df['pct_spent'] = round(df['total_assistance'] / df['total_allocation'], 4)\n",
    "    df['not_spent'] = df['total_allocation'] - df['total_assistance']\n",
    "    \n",
    "    # get state total rows\n",
    "    state_total = df[df['location'].isin(names)].copy()\n",
    "    state_total['type'] = 'state_total'\n",
    "    \n",
    "    # get only state government rows (no local county/city)\n",
    "    state_only = df[df['location'].str.contains('^State of|Common')].copy()\n",
    "    state_only['type'] = 'state_only'\n",
    "    \n",
    "    # combine datasets, remove prefix, add abbr\n",
    "    df = pd.concat([state_only, state_total]).reset_index(drop=True)\n",
    "    df['location'] = df['location'].str.replace('State of ', '').str.replace('Commonwealth of ', '')\n",
    "    df['state_abbr'] = df['location'].map(states)\n",
    "    \n",
    "    # replace 1 of the dc duplicates\n",
    "    idx = df[df['state_abbr'] == 'DC'].iloc[0].name\n",
    "    df.loc[df.index == idx, 'type'] = 'state_only'\n",
    "    \n",
    "    # add program type\n",
    "    df['program'] = program_type\n",
    "    \n",
    "    return df"
   ]
  },
  {
   "cell_type": "code",
   "execution_count": 4,
   "id": "f9c2f7f2",
   "metadata": {},
   "outputs": [],
   "source": [
    "# collect era1\n",
    "df = pd.read_excel('./data/raw/August-ERA-Data.xlsx', sheet_name='ERA1 State & Local Reporting', skipfooter=6, skiprows=2)\n",
    "\n",
    "rename_cols = {\n",
    "    'Unnamed: 0': 'location',\n",
    "    'Unnamed: 14': 'total_allocation'\n",
    "}\n",
    "\n",
    "assist = list(df)[1:7]\n",
    "house = list(df)[8:14]\n",
    "\n",
    "era1 = parse_df(df, rename_cols, assist, house, \"ERA1\")"
   ]
  },
  {
   "cell_type": "code",
   "execution_count": 5,
   "id": "a6e6129b",
   "metadata": {},
   "outputs": [],
   "source": [
    "# collect era2\n",
    "df = pd.read_excel('./data/raw/August-ERA-Data.xlsx', sheet_name='ERA2 State & Local Reporting', skipfooter=5, skiprows=2)\n",
    "\n",
    "rename_cols = {\n",
    "    'Unnamed: 0': 'location',\n",
    "    'Unnamed: 8': 'total_allocation'\n",
    "}\n",
    "\n",
    "assist = list(df)[1:4]\n",
    "house = list(df)[5:8]\n",
    "\n",
    "era2 = parse_df(df, rename_cols, assist, house, \"ERA2\")"
   ]
  },
  {
   "cell_type": "code",
   "execution_count": 6,
   "id": "448f8674",
   "metadata": {},
   "outputs": [],
   "source": [
    "# combine era1 & era2\n",
    "df = era1.append(era2)\n",
    "\n",
    "# get columns for combined totals of both era1 + era2\n",
    "merge = df.groupby(['location', 'state_abbr', 'type'], as_index=False).sum()\n",
    "merge['pct_spent'] = round(merge['total_assistance'] / merge['total_allocation'], 4)\n",
    "merge['not_spent'] = merge['total_allocation'] - merge['total_assistance']\n",
    "merge['program'] = 'combined'\n",
    "\n",
    "# final output\n",
    "df.append(merge).to_csv('./data/clean/era1_and_era2_clean.csv', index=False)"
   ]
  }
 ],
 "metadata": {
  "kernelspec": {
   "display_name": "Python 3",
   "language": "python",
   "name": "python3"
  },
  "language_info": {
   "codemirror_mode": {
    "name": "ipython",
    "version": 3
   },
   "file_extension": ".py",
   "mimetype": "text/x-python",
   "name": "python",
   "nbconvert_exporter": "python",
   "pygments_lexer": "ipython3",
   "version": "3.9.5"
  }
 },
 "nbformat": 4,
 "nbformat_minor": 5
}
