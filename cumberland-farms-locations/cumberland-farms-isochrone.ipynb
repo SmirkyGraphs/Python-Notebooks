{
 "cells": [
  {
   "cell_type": "markdown",
   "id": "14811530",
   "metadata": {},
   "source": [
    "Created by [SmirkyGraphs](https://smirkygraphs.github.io/). Code: [Github](https://github.com/SmirkyGraphs/Python-Notebooks). Source: [Cumberland Farms](https://www.cumberlandfarms.com/stores) | [HERE API](https://developer.here.com/).\n",
    "<hr>"
   ]
  },
  {
   "cell_type": "markdown",
   "id": "2e1c047e",
   "metadata": {},
   "source": [
    "# Cumberland Farms - Isochrone Map\n",
    "\n",
    "One common question raised when I showed my Dunkin' isochrone maps ([MA](https://preview.redd.it/l67vxd59dww61.png?width=1024&auto=webp&s=2e6ed451a00d9a3cf13fd5c821a7d957324e362b), [RI](https://preview.redd.it/x1fif9lss3w61.png?width=556&auto=webp&s=40e99416dbb8566a17022a8b3ae7790492260d53)) is often requests for other companies. One of which, was Cumberland Farms, a pretty popular north east gas station which also provides coffee at nearly all of their locations. I figured it would make a good follow up to the Dunkin' maps.\n",
    "\n",
    "This code takes the data provided by the `cumberland-farms-locations` notebook and uses [HERE API](https://developer.here.com/) to generate isochrone lines for 568 store locations from across the east coast. The parameters used are `[150, 300, 600, 900]` seconds for the time range and `car` for the vehicle type.\n",
    "<hr>"
   ]
  },
  {
   "cell_type": "code",
   "execution_count": 1,
   "id": "a5201a90",
   "metadata": {},
   "outputs": [],
   "source": [
    "import json\n",
    "import time\n",
    "import requests\n",
    "import pandas as pd\n",
    "from pathlib import Path\n",
    "\n",
    "import flexpolyline\n",
    "import geopandas as gpd\n",
    "from shapely.geometry import Polygon"
   ]
  },
  {
   "cell_type": "code",
   "execution_count": 2,
   "id": "450bed8c",
   "metadata": {},
   "outputs": [],
   "source": [
    "def isoline_urls(df, time_range, tranport):\n",
    "    coded_range = ','.join(str(x) for x in time_range)\n",
    "    \n",
    "    urls = {}\n",
    "    for key, lat, lng in zip(df['StoreId'], df['Latitude'], df['Longitude']):\n",
    "        url = \"https://isoline.router.hereapi.com/v8/isolines?\" + \\\n",
    "             f\"apiKey={api_key}\" + \\\n",
    "             f\"&range[type]=time\" + \\\n",
    "             f\"&range[values]={coded_range}\" + \\\n",
    "             f\"&transportMode={transport_type}\" + \\\n",
    "             f\"&destination={lat},{lng}\"\n",
    "\n",
    "        urls[key] = url\n",
    "        \n",
    "    return urls\n",
    "\n",
    "def isoline_response(key, url):\n",
    "    r = requests.get(url)\n",
    "    if r.status_code == 200:\n",
    "        data = r.json()\n",
    "    \n",
    "    cols = ['id','store_key', 'location_lng', 'location_lat', 'seconds', 'geometry']\n",
    "    gdf = gpd.GeoDataFrame(columns=cols, crs=\"EPSG:4326\")\n",
    "    lat = data['arrival']['place']['originalLocation']['lat']\n",
    "    lng = data['arrival']['place']['originalLocation']['lng']\n",
    "    \n",
    "    for i, poly in enumerate(data['isolines']):\n",
    "        seconds = (poly['range']['value'])\n",
    "        polygon = poly['polygons'][0]['outer']\n",
    "        geom = flexpolyline.decode(polygon)\n",
    "        reverse_geom = [(xy[1], xy[0]) for xy in geom]\n",
    "        gdf.loc[i] = [i, key, lng, lat, seconds, reverse_geom]\n",
    "        \n",
    "    return gdf\n",
    "\n",
    "def collect_isolines(df, api_key, time_range, transport_type, sleep):\n",
    "    # filter for already collected keys\n",
    "    files = list(Path('./data/raw/').glob('*.geojson'))\n",
    "    collected_keys = [x.stem for x in files]\n",
    "    df = df[~df['StoreId'].astype(str).isin(collected_keys)]\n",
    "    isolines = isoline_urls(df, time_range, transport_type)\n",
    "    \n",
    "    frames = []\n",
    "    for key, url in isolines.items():\n",
    "        gdf = isoline_response(key, url)\n",
    "        gdf['geometry'] = gdf['geometry'].apply(Polygon)\n",
    "\n",
    "        frames.append(gdf)\n",
    "        gdf.to_file(f\"./data/raw/{key}.geojson\", driver='GeoJSON')\n",
    "        time.sleep(sleep)\n",
    "    \n",
    "    return pd.concat(frames)"
   ]
  },
  {
   "cell_type": "code",
   "execution_count": 3,
   "id": "920fa03f",
   "metadata": {},
   "outputs": [],
   "source": [
    "with open('./config.json', 'r') as f:\n",
    "    config = json.load(f)\n",
    "    \n",
    "api_key = config['api_key']\n",
    "\n",
    "time_range = [150, 300, 600, 900]\n",
    "transport_type = 'car'\n",
    "\n",
    "df = pd.read_csv('./data/files/cumberland_farms_clean.csv')\n",
    "gdf = collect_isolines(df, api_key, time_range, transport_type, 5)\n",
    "gdf.to_file(\"./data/clean/combined.geojson\", driver='GeoJSON')"
   ]
  },
  {
   "cell_type": "code",
   "execution_count": 4,
   "id": "16161d36",
   "metadata": {},
   "outputs": [],
   "source": [
    "frames = []\n",
    "for file in Path('./data/raw/').glob('*.geojson'):\n",
    "    frames.append(gpd.read_file(file))\n",
    "    \n",
    "gdf = pd.concat(frames)\n",
    "\n",
    "gdf.to_file(\"./data/clean/combined.geojson\", driver='GeoJSON')"
   ]
  }
 ],
 "metadata": {
  "kernelspec": {
   "display_name": "Python 3",
   "language": "python",
   "name": "python3"
  },
  "language_info": {
   "codemirror_mode": {
    "name": "ipython",
    "version": 3
   },
   "file_extension": ".py",
   "mimetype": "text/x-python",
   "name": "python",
   "nbconvert_exporter": "python",
   "pygments_lexer": "ipython3",
   "version": "3.9.5"
  }
 },
 "nbformat": 4,
 "nbformat_minor": 5
}
