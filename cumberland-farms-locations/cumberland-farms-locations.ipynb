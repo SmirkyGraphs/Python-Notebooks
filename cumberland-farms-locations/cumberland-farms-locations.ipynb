{
 "cells": [
  {
   "cell_type": "markdown",
   "id": "afca1f89",
   "metadata": {},
   "source": [
    "Created by [SmirkyGraphs](https://smirkygraphs.github.io/). Code: [Github](https://github.com/SmirkyGraphs/Python-Notebooks). Source: [Cumberland Farms](https://www.cumberlandfarms.com/stores).\n",
    "<hr>"
   ]
  },
  {
   "cell_type": "markdown",
   "id": "311ac694",
   "metadata": {},
   "source": [
    "# Cumberland Farms - Data Collection\n",
    "\n",
    "Code written to collect latitude and longitude locations for Cumberland Farms using the [store location finder](https://www.cumberlandfarms.com/stores). The data is then cleaned with pandas and exported to a `.csv` file for use in the isochrone generation. There was 1 location error, `StoreId 6698` which had a latitude and longitude location that was in Greenland which was fixed for the cleaned dataset."
   ]
  },
  {
   "cell_type": "code",
   "execution_count": 1,
   "id": "3b79da90",
   "metadata": {},
   "outputs": [],
   "source": [
    "import json\n",
    "import requests\n",
    "import datetime as dt\n",
    "import pandas as pd"
   ]
  },
  {
   "cell_type": "code",
   "execution_count": 2,
   "id": "ea2d8c76",
   "metadata": {},
   "outputs": [],
   "source": [
    "# data collection\n",
    "def request_data(url):\n",
    "    r = requests.get(url)\n",
    "    if r.status_code == 200:\n",
    "        return r.json()\n",
    "    else:\n",
    "        print(\"[ERROR] 404 response\")\n",
    "        return\n",
    "    \n",
    "url = 'https://www.cumberlandfarms.com/storedata/getstoredatabylocation'\n",
    "\n",
    "# run file\n",
    "data = request_data(url)\n",
    "df = pd.json_normalize(data)\n",
    "\n",
    "# remove nulls\n",
    "df = df[~df['StoreId'].isnull()]\n",
    "\n",
    "# only those with ice coffee & save\n",
    "df = df[df['IceCoffee'] == 'Y']\n",
    "df = df.drop_duplicates(subset='StoreId')\n",
    "df.to_csv('./data/files/cumberland_farms_raw.csv', index=False)\n",
    "\n",
    "# wtf why is this mass gas station in greenland\n",
    "df.loc[df['StoreId'] == '6698', 'Latitude'] = 42.246615\n",
    "df.loc[df['StoreId'] == '6698', 'Longitude'] = -72.543669\n",
    "\n",
    "# filter for wanted columns\n",
    "df = df[['StoreId', 'Address', 'City', 'Latitude', 'Longitude']]\n",
    "df.to_csv('./data/files/cumberland_farms_clean.csv', index=False)"
   ]
  }
 ],
 "metadata": {
  "kernelspec": {
   "display_name": "Python 3",
   "language": "python",
   "name": "python3"
  },
  "language_info": {
   "codemirror_mode": {
    "name": "ipython",
    "version": 3
   },
   "file_extension": ".py",
   "mimetype": "text/x-python",
   "name": "python",
   "nbconvert_exporter": "python",
   "pygments_lexer": "ipython3",
   "version": "3.9.5"
  }
 },
 "nbformat": 4,
 "nbformat_minor": 5
}
