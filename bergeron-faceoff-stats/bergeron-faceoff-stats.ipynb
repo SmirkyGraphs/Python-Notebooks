{
 "cells": [
  {
   "cell_type": "markdown",
   "id": "5bf79388",
   "metadata": {},
   "source": [
    "Created by: [SmirkyGraphs](https://smirkygraphs.github.io/). Code: [Github](https://github.com/SmirkyGraphs/Python-Notebooks). Source: [NHL-API](https://gitlab.com/dword4/nhlapi) [NHL-Stats](https://www.nhl.com/stats/) [NHL-Records](https://records.nhl.com/records/skater-records|).\n",
    "<hr>"
   ]
  },
  {
   "cell_type": "markdown",
   "id": "e4cbcf76",
   "metadata": {},
   "source": [
    "# Bergeron Faceoff Stats\n",
    "\n",
    "This Notebook pulls faceoff data for bergeron and other centers from the NHL stats & records page for mulitple seasons. The data is then cleaned and combined using pandas. For more detailed specific stats, data is also pulled from the NHL API dataset this shows faceoff-by-faceoff level data as opposed to the aggregated information from the stats and records data (for details on the queries look in `/data/queries/`).\n",
    "<hr>"
   ]
  },
  {
   "cell_type": "code",
   "execution_count": 1,
   "id": "3199772f",
   "metadata": {},
   "outputs": [],
   "source": [
    "import requests\n",
    "import pandas as pd\n",
    "import numpy as np\n",
    "\n",
    "import math\n",
    "from pathlib import Path\n",
    "\n",
    "pid = 8470638 # bergerons player_id\n",
    "BASE_URL = 'https://statsapi.web.nhl.com/api/v1'\n",
    "RECORDS_URL = 'https://records.nhl.com/site/api/skater-real-time-stats-career'\n",
    "STATS_API_URL = \"https://api.nhle.com/stats/rest/en/skater/faceoffwins?\"\n",
    "TEAM_API_URL = \"https://records.nhl.com/site/api/team-season-record-and-scoring?\""
   ]
  },
  {
   "cell_type": "code",
   "execution_count": 2,
   "id": "7eefd680",
   "metadata": {},
   "outputs": [],
   "source": [
    "data = {\n",
    "    \"isAggregate\": \"false\",\n",
    "    \"isGame\": \"false\",\n",
    "    \"limit\": 100,\n",
    "    \"start\": 0\n",
    "}\n",
    "\n",
    "# loop over seasons and get all faceoff players (> 300) or (playoffs > 30)\n",
    "for game_type in [2, 3]:\n",
    "    faceoffs = (150 if game_type == 2 else 30)\n",
    "    \n",
    "    for season in range(2000, 2023):\n",
    "        data.update({\"cayenneExp\": f\"gameTypeId={game_type} and seasonId=={season}{season + 1}\"})\n",
    "        data.update({\"factCayenneExp\": f\"gamesPlayed>=1 and totalFaceoffs>={faceoffs}\"})\n",
    "        data.update({\"start\": 0})\n",
    "        r = requests.get(STATS_API_URL, params=data)\n",
    "\n",
    "        num = 1\n",
    "        frames = []\n",
    "        total = math.ceil(r.json()['total'] / 100) \n",
    "        while num <= total:\n",
    "            df = pd.DataFrame(r.json()['data'])\n",
    "            df['game_type'] = game_type\n",
    "            frames.append(df)      \n",
    "\n",
    "            data.update({\"start\": data['start'] + 100})\n",
    "            num += 1\n",
    "\n",
    "            r = requests.get(STATS_API_URL, params=data)\n",
    "\n",
    "        # add season\n",
    "        if len(frames) > 0:\n",
    "            df = pd.concat(frames)\n",
    "            df.to_csv(f'./data/raw/season-totals-faceoffs/{season}{season + 1}-{game_type}.csv', index=False)\n",
    "            \n",
    "# combine data\n",
    "data = []\n",
    "files = Path('./data/raw/season-totals-faceoffs').glob('*.csv')\n",
    "for f in files:\n",
    "    data.append(pd.read_csv(f))\n",
    "df = pd.concat(data)\n",
    "\n",
    "cols = ['seasonId', 'skaterFullName', 'totalFaceoffWins', 'totalFaceoffLosses', 'totalFaceoffs', 'gamesPlayed', 'game_type']\n",
    "df = df[cols].copy()\n",
    "df['percent_won'] = df['totalFaceoffWins'] / df['totalFaceoffs']\n",
    "df['season_rank_pct'] = df.groupby(['seasonId', 'game_type'])['percent_won'].rank(method='dense', ascending=False)\n",
    "df['season_rank_tot'] = df.groupby(['seasonId', 'game_type'])['totalFaceoffWins'].rank(method='dense', ascending=False)\n",
    "\n",
    "df.to_csv('./data/clean/season-totals-faceoffs.csv', index=False)"
   ]
  },
  {
   "cell_type": "code",
   "execution_count": 3,
   "id": "678b469a",
   "metadata": {},
   "outputs": [],
   "source": [
    "data = {\n",
    "    \"isAggregate\": \"false\",\n",
    "    \"isGame\": \"true\",\n",
    "    \"limit\": 100,\n",
    "    \"start\": 0,\n",
    "    \"factCayenneExp\": \"gamesPlayed>=1\"\n",
    "}\n",
    "\n",
    "# loop over seasons and get all game totals for bergeron\n",
    "player = 'skaterFullName like \"%Patrice Bergeron%\"'\n",
    "for game_type in [2, 3]:\n",
    "    for season in range(2000, 2023):\n",
    "        data.update({\"cayenneExp\": f'gameTypeId={game_type} and seasonId=={season}{season + 1} and {player}'})\n",
    "        data.update({\"start\": 0})\n",
    "        r = requests.get(STATS_API_URL, params=data)\n",
    "        \n",
    "        num = 1\n",
    "        frames = []\n",
    "        total = math.ceil(r.json()['total'] / 100) \n",
    "        while num <= total:\n",
    "            df = pd.DataFrame(r.json()['data'])\n",
    "            df['game_type'] = game_type\n",
    "            frames.append(df)      \n",
    "\n",
    "            data.update({\"start\": data['start'] + 100})\n",
    "            num += 1\n",
    "\n",
    "            r = requests.get(STATS_API_URL, params=data)\n",
    "\n",
    "        # add season\n",
    "        if len(frames) > 0:\n",
    "            df = pd.concat(frames)\n",
    "            df.to_csv(f'./data/raw/bergeron-all-games/{season}{season + 1}-{game_type}.csv', index=False)\n",
    "            \n",
    "# combine data\n",
    "data = []\n",
    "files = Path('./data/raw/bergeron-all-games').glob('*.csv')\n",
    "for f in files:\n",
    "    data.append(pd.read_csv(f))\n",
    "df = pd.concat(data)\n",
    "\n",
    "df.to_csv('./data/clean/bergeron-gamelog-faceoffs.csv', index=False)"
   ]
  },
  {
   "cell_type": "code",
   "execution_count": 4,
   "id": "ec0d313c",
   "metadata": {},
   "outputs": [],
   "source": [
    "# get team faceoff stats\n",
    "cols = ['teamName', 'seasonId', 'faceoffWinPctg', 'faceoffsLost', 'faceoffsWon', 'faceoffsTaken']\n",
    "\n",
    "data = {}\n",
    "for game_type in [2, 3]:\n",
    "    data.update({\"cayenneExp\": f'gameTypeId={game_type} and seasonId >= 20042005'})\n",
    "    r = requests.get(TEAM_API_URL, params=data)\n",
    "\n",
    "    df = pd.DataFrame(r.json()['data'])[cols]\n",
    "    df['game_type'] = game_type\n",
    "    df.to_csv(f'./data/raw/all-teams-faceoffs/all-teams-{game_type}.csv', index=False)"
   ]
  },
  {
   "cell_type": "code",
   "execution_count": 5,
   "id": "a5512123",
   "metadata": {},
   "outputs": [],
   "source": [
    "# endpoint for total career # of faceoffs, wins\n",
    "url = f'{RECORDS_URL}?cayenneExp=gameTypeId%20=%202%20and%20faceoffsTaken%20%3E=%20500%20and%20franchiseId=null'\n",
    "\n",
    "r = requests.get(url)\n",
    "df = pd.DataFrame(r.json()['data'])\n",
    "df.to_csv('./data/clean/records-api-top-faceoffs-totals.csv', index=False)"
   ]
  },
  {
   "cell_type": "code",
   "execution_count": 6,
   "id": "e66c6ebe",
   "metadata": {},
   "outputs": [],
   "source": [
    "# game by game for all seasons\n",
    "data = []\n",
    "for season in range(2003, 2023):\n",
    "    url = f'{BASE_URL}/people/{pid}/stats?stats=gameLog&season={season}{season+1}'\n",
    "    r = requests.get(url)\n",
    "    season_data = pd.json_normalize(r.json()['stats'][0]['splits'])\n",
    "    data.append(season_data)\n",
    "    \n",
    "df = pd.concat(data)\n",
    "df.to_csv('./data/clean/gamelog-faceoff-percent.csv', index=False)"
   ]
  },
  {
   "cell_type": "code",
   "execution_count": 7,
   "id": "14557f5f",
   "metadata": {},
   "outputs": [],
   "source": [
    "# year by year stat totals\n",
    "url = f'{BASE_URL}/people/{pid}/stats?stats=yearByYear'\n",
    "r = requests.get(url)\n",
    "\n",
    "data = r.json()['stats'][0]['splits']\n",
    "df = pd.json_normalize(data)\n",
    "df = df[df['league.name'] == 'National Hockey League']\n",
    "df.to_csv('./data/clean/year-by-year-season-stats.csv', index=False)"
   ]
  },
  {
   "cell_type": "code",
   "execution_count": 61,
   "id": "d8402840",
   "metadata": {},
   "outputs": [],
   "source": [
    "# data from the sql database for faceoff row level data\n",
    "df = pd.read_csv('./data/raw/query_results-2023-08-22_52557.csv')\n",
    "\n",
    "# clean data & remove unwanted columns\n",
    "df.loc[df['home_team'] == 'Boston Bruins', 'team_name'] = df['away_team']\n",
    "df.loc[df['away_team'] == 'Boston Bruins', 'team_name'] = df['home_team']\n",
    "\n",
    "berg_dob = pd.to_datetime('July 24, 1985')\n",
    "df['age'] = (np.floor((pd.to_datetime(df['about_datetime']) - pd.to_datetime(df['birth_date'])).dt.days / 365.25)).astype(int)\n",
    "df['berg_age'] = (np.floor((pd.to_datetime(df['about_datetime']) - pd.to_datetime(berg_dob)).dt.days / 365.25)).astype(int)\n",
    "df['player_age_diff_from_berg'] = df['age'] - df['berg_age']\n",
    "\n",
    "# get running count of winstreak\n",
    "df['berg_win_bool'] = df['winner'] == pid\n",
    "df = df.sort_values(by=['game_id', 'event_key'])\n",
    "df['win_cnt'] = df['berg_win_bool'].groupby((~df['berg_win_bool']).cumsum()).cumsum()\n",
    "df['win_streak'] = df['berg_win_bool'].groupby([df['game_id'], (~df['berg_win_bool']).cumsum()]).cumsum()"
   ]
  },
  {
   "cell_type": "code",
   "execution_count": 62,
   "id": "34e61206",
   "metadata": {},
   "outputs": [],
   "source": [
    "# get wanted columns and save\n",
    "drop_cols = ['about_eventid', 'about_eventidx', 'height', 'weight', 'active', 'result_description', 'result_event', \n",
    "             'first_name', 'last_name', 'primary_number', 'birth_city', 'rookie', 'rosterstatus', 'primary_position_name', \n",
    "             'primary_position_type', 'primary_position_abbreviation', 'about_periodtime', 'about_goals_home',\n",
    "             'about_goals_away', 'home_team', 'away_team', 'win_cnt', 'win_streak']\n",
    "\n",
    "cols = [x for x in list(df) if x not in drop_cols]\n",
    "df[cols].to_csv('./data/clean/query-clean.csv', index=False)"
   ]
  }
 ],
 "metadata": {
  "kernelspec": {
   "display_name": "Python 3 (ipykernel)",
   "language": "python",
   "name": "python3"
  },
  "language_info": {
   "codemirror_mode": {
    "name": "ipython",
    "version": 3
   },
   "file_extension": ".py",
   "mimetype": "text/x-python",
   "name": "python",
   "nbconvert_exporter": "python",
   "pygments_lexer": "ipython3",
   "version": "3.9.5"
  }
 },
 "nbformat": 4,
 "nbformat_minor": 5
}
