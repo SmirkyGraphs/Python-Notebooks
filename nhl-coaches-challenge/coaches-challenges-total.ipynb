{
 "cells": [
  {
   "cell_type": "markdown",
   "id": "a66561f3",
   "metadata": {},
   "source": [
    "Created by: [SmirkyGraphs](https://smirkygraphs.github.io/). Code: [Github](https://github.com/SmirkyGraphs/Python-Notebooks). Source: [NHL API](https://gitlab.com/dword4/nhlapi).\n",
    "<hr>"
   ]
  },
  {
   "cell_type": "markdown",
   "id": "48f1bce0",
   "metadata": {},
   "source": [
    "# NHL Coaching Challenge - 2020-21 Season\n",
    "\n",
    "Nearing the end of the season during playoffs, one of the Tampa Bay's games against Montreal had a pretty early timeout `2021-07-03` the 196th timeout of the season was called by Montreal after falling down by 2 in the 1st period in game 3. The commentators started talking about how while rare, many teams end up losing a game and never even using their timeout at all.\n",
    "\n",
    "This stuck with me so I decided to find any potentially interesting fact about timeouts that I could for the 2020-21 season. I chose to stick to just a single season rather then multiple seasons as previously failed coaches challenges lead to a loss of a timeout and didn't want to mix the data.\n",
    "\n",
    "This code below is used to loop over the game event json files, find any timeouts, excluding TV-timeouts and do some basic data cleaning like adding time (in seconds) which team called timeout, who was winning at the time, by how much, etc.\n",
    "\n",
    "<hr>"
   ]
  },
  {
   "cell_type": "code",
   "execution_count": 1,
   "id": "2e42b516",
   "metadata": {},
   "outputs": [],
   "source": [
    "import json\n",
    "import numpy as np\n",
    "import pandas as pd\n",
    "from pathlib import Path"
   ]
  },
  {
   "cell_type": "code",
   "execution_count": 2,
   "id": "a4e21cdb",
   "metadata": {},
   "outputs": [],
   "source": [
    "def collect_season(folder):\n",
    "    files = Path(f'../data/raw/live-feed/{folder}/').glob('*.json')\n",
    "    \n",
    "    frames = []\n",
    "    count = 1\n",
    "    for file in files:\n",
    "        with open(file, 'r') as f:\n",
    "            data = json.load(f)\n",
    "\n",
    "        df = pd.json_normalize(data['liveData']['plays']['allPlays'])\n",
    "        df = (df\n",
    "          .assign(game_pk = data['gameData']['game']['pk'])\n",
    "          .assign(season = data['gameData']['game']['season'])\n",
    "          .assign(game_type = data['gameData']['game']['type'])\n",
    "          .assign(date = data['gameData']['datetime']['dateTime'])\n",
    "          .assign(game_id = count)\n",
    "        )\n",
    "\n",
    "        frames.append(df)\n",
    "        count += 1\n",
    "    \n",
    "    return pd.concat(frames)\n",
    "\n",
    "def get_season_stats(df):\n",
    "    # filter for regular season\n",
    "    df = df[df['game_type']=='R'].copy()\n",
    "    \n",
    "    # label challenges\n",
    "    df.loc[df['result.eventTypeId'] == 'CHALLENGE', 'coaches_challenge'] = 1\n",
    "    \n",
    "    # get games + # of challenges\n",
    "    df = df.groupby(['season', 'game_pk'], as_index=False)['coaches_challenge'].sum()\n",
    "    \n",
    "    # add a count of how many games were played\n",
    "    df['game_id'] = df.groupby('season').cumcount() + 1\n",
    "    \n",
    "    return df"
   ]
  },
  {
   "cell_type": "code",
   "execution_count": null,
   "id": "bcaba889",
   "metadata": {},
   "outputs": [],
   "source": [
    "folders = Path('../data/raw/live-feed/')\n",
    "folders = [f for f in folders.iterdir() if f.is_dir()]\n",
    "\n",
    "data = []\n",
    "for folder in folders:\n",
    "    df = collect_season(folder.name)\n",
    "    df = get_season_stats(df)\n",
    "    data.append(df)\n",
    "    \n",
    "df = pd.concat(data)"
   ]
  },
  {
   "cell_type": "code",
   "execution_count": null,
   "id": "237cc4e1",
   "metadata": {},
   "outputs": [],
   "source": [
    "# get max number of games for most recent season (rounded down to 10th)\n",
    "end_range = np.floor(df['game_id'].max() / 10) * 10\n",
    "\n",
    "interval_range = pd.interval_range(start=0, freq=10, end=end_range)\n",
    "df['binned'] = pd.cut(df['game_id'], bins=interval_range)"
   ]
  },
  {
   "cell_type": "code",
   "execution_count": null,
   "id": "48d4ae90",
   "metadata": {},
   "outputs": [],
   "source": [
    "# bin by number of games 0-10 10-20 etc. then save\n",
    "limit = df.groupby('season')['binned'].max().apply(lambda x: x.right)\n",
    "final_df = (df\n",
    "    .groupby(by=['season','binned'])['coaches_challenge'].sum()\n",
    "    .groupby(level='season').cumsum()\n",
    "    .reset_index(name='coaches_challenge')\n",
    "    .assign(bin_max=lambda x: x['binned'].apply(lambda x: x.right))\n",
    "    .merge(limit, how='left', on='season', suffixes=['', '_limit'])\n",
    "    .query('bin_max <= binned_limit')\n",
    "    .drop(columns='binned_limit')\n",
    ")\n",
    "\n",
    "for season in final_df['season'].unique():\n",
    "    row = {'season': season, 'bin_max': 0, 'coaches_challenge': 0}\n",
    "    final_df = final_df.append(row, ignore_index=True)\n",
    "\n",
    "final_df.to_csv('../data/clean/coaches-challenge-binned.csv', index=False)"
   ]
  },
  {
   "cell_type": "code",
   "execution_count": null,
   "id": "df740202",
   "metadata": {},
   "outputs": [],
   "source": [
    "final_df.head()"
   ]
  },
  {
   "cell_type": "code",
   "execution_count": null,
   "id": "fbdc67c4",
   "metadata": {},
   "outputs": [],
   "source": []
  }
 ],
 "metadata": {
  "kernelspec": {
   "display_name": "Python 3 (ipykernel)",
   "language": "python",
   "name": "python3"
  },
  "language_info": {
   "codemirror_mode": {
    "name": "ipython",
    "version": 3
   },
   "file_extension": ".py",
   "mimetype": "text/x-python",
   "name": "python",
   "nbconvert_exporter": "python",
   "pygments_lexer": "ipython3",
   "version": "3.9.5"
  }
 },
 "nbformat": 4,
 "nbformat_minor": 5
}
