{
 "cells": [
  {
   "cell_type": "markdown",
   "id": "a66561f3",
   "metadata": {},
   "source": [
    "Created by: [SmirkyGraphs](https://smirkygraphs.github.io/). Code: [Github](https://github.com/SmirkyGraphs/Python-Notebooks). Source: [NHL API](https://gitlab.com/dword4/nhlapi).\n",
    "<hr>"
   ]
  },
  {
   "cell_type": "markdown",
   "id": "48f1bce0",
   "metadata": {},
   "source": [
    "# NHL Coaching Challenges - Total by Season\n",
    "\n",
    "The code below is used to get a running total of Coaching Challenges by season and the number of games played. This is done to try and allow for comparison across seasons despite having a different number of games played. The inspiration for this was to see if there was a big change in 2019-20 when the league added an update to the Coaching Challenge rule which changed the consequences of failed challenges from a loss of timeouts (which no one used anyways) to a 2 min bench minor (up to 4 mins for 2nd fail).\n",
    "\n",
    "<hr>"
   ]
  },
  {
   "cell_type": "code",
   "execution_count": 1,
   "id": "2e42b516",
   "metadata": {},
   "outputs": [],
   "source": [
    "import json\n",
    "import numpy as np\n",
    "import pandas as pd\n",
    "from pathlib import Path"
   ]
  },
  {
   "cell_type": "code",
   "execution_count": 2,
   "id": "a4e21cdb",
   "metadata": {},
   "outputs": [],
   "source": [
    "def collect_season(folder):\n",
    "    files = Path(f'../data/raw/live-feed/{folder}/').glob('*.json')\n",
    "    \n",
    "    frames = []\n",
    "    count = 1\n",
    "    for file in files:\n",
    "        with open(file, 'r') as f:\n",
    "            data = json.load(f)\n",
    "\n",
    "        df = pd.json_normalize(data['liveData']['plays']['allPlays'])\n",
    "        df = (df\n",
    "          .assign(game_pk = data['gameData']['game']['pk'])\n",
    "          .assign(season = data['gameData']['game']['season'])\n",
    "          .assign(game_type = data['gameData']['game']['type'])\n",
    "          .assign(date = data['gameData']['datetime']['dateTime'])\n",
    "          .assign(game_id = count)\n",
    "        )\n",
    "\n",
    "        frames.append(df)\n",
    "        count += 1\n",
    "    \n",
    "    return pd.concat(frames)\n",
    "\n",
    "def get_season_stats(df):\n",
    "    # filter for regular season\n",
    "    df = df[df['game_type']=='R'].copy()\n",
    "    \n",
    "    # label challenges\n",
    "    df.loc[df['result.eventTypeId'] == 'CHALLENGE', 'coaches_challenge'] = 1\n",
    "    \n",
    "    # get games + # of challenges\n",
    "    df = df.groupby(['season', 'game_pk'], as_index=False)['coaches_challenge'].sum()\n",
    "    \n",
    "    # add a count of how many games were played\n",
    "    df['game_id'] = df.groupby('season').cumcount() + 1\n",
    "    \n",
    "    return df"
   ]
  },
  {
   "cell_type": "code",
   "execution_count": 3,
   "id": "bcaba889",
   "metadata": {},
   "outputs": [],
   "source": [
    "folders = Path('../data/raw/live-feed/')\n",
    "folders = [f for f in folders.iterdir() if f.is_dir()]\n",
    "\n",
    "data = []\n",
    "for folder in folders:\n",
    "    df = collect_season(folder.name)\n",
    "    df = get_season_stats(df)\n",
    "    data.append(df)\n",
    "    \n",
    "df = pd.concat(data)"
   ]
  },
  {
   "cell_type": "code",
   "execution_count": 4,
   "id": "237cc4e1",
   "metadata": {},
   "outputs": [],
   "source": [
    "# get max number of games for most recent season (rounded down to 10th)\n",
    "end_range = np.floor(df['game_id'].max() / 10) * 10\n",
    "\n",
    "interval_range = pd.interval_range(start=0, freq=10, end=end_range)\n",
    "df['binned'] = pd.cut(df['game_id'], bins=interval_range)"
   ]
  },
  {
   "cell_type": "code",
   "execution_count": 5,
   "id": "48d4ae90",
   "metadata": {},
   "outputs": [],
   "source": [
    "# bin by number of games 0-10 10-20 etc. then save\n",
    "limit = df.groupby('season')['binned'].max().apply(lambda x: x.right)\n",
    "final_df = (df\n",
    "    .groupby(by=['season','binned'])['coaches_challenge'].sum()\n",
    "    .groupby(level='season').cumsum()\n",
    "    .reset_index(name='coaches_challenge')\n",
    "    .assign(bin_max=lambda x: x['binned'].apply(lambda x: x.right))\n",
    "    .merge(limit, how='left', on='season', suffixes=['', '_limit'])\n",
    "    .query('bin_max <= binned_limit')\n",
    "    .drop(columns='binned_limit')\n",
    ")\n",
    "\n",
    "for season in final_df['season'].unique():\n",
    "    row = {'season': season, 'bin_max': 0, 'coaches_challenge': 0}\n",
    "    final_df = final_df.append(row, ignore_index=True)\n",
    "\n",
    "final_df.to_csv('../data/clean/coaches-challenge-binned.csv', index=False)"
   ]
  },
  {
   "cell_type": "code",
   "execution_count": null,
   "id": "99a19482",
   "metadata": {},
   "outputs": [],
   "source": []
  }
 ],
 "metadata": {
  "kernelspec": {
   "display_name": "Python 3 (ipykernel)",
   "language": "python",
   "name": "python3"
  },
  "language_info": {
   "codemirror_mode": {
    "name": "ipython",
    "version": 3
   },
   "file_extension": ".py",
   "mimetype": "text/x-python",
   "name": "python",
   "nbconvert_exporter": "python",
   "pygments_lexer": "ipython3",
   "version": "3.9.5"
  }
 },
 "nbformat": 4,
 "nbformat_minor": 5
}
