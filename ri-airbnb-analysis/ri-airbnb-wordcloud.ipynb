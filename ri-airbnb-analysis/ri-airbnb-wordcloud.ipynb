{
 "cells": [
  {
   "cell_type": "markdown",
   "metadata": {},
   "source": [
    "Created by: [SmirkyGraphs](http://smirkygraphs.github.io/). Code: [Github](https://github.com/SmirkyGraphs/Python-Notebooks). Source: [insideairbnb.com](http://insideairbnb.com/get-the-data.html).\n",
    "<hr>"
   ]
  },
  {
   "cell_type": "markdown",
   "metadata": {},
   "source": [
    "# Rhode Island Airbnb WordClouds"
   ]
  },
  {
   "cell_type": "markdown",
   "metadata": {},
   "source": [
    "This notebook contains code used to create wordclouds from reviews on Airbnb locations around Rhode Island. This will look at both positive and negative reviews for the entire state. Additionally I will group reviews into wordclouds based on the top 5 cities with the most locations to rent.\n",
    "\n",
    "<hr>"
   ]
  },
  {
   "cell_type": "code",
   "execution_count": 1,
   "metadata": {},
   "outputs": [],
   "source": [
    "import re\n",
    "import numpy as np\n",
    "import pandas as pd\n",
    "\n",
    "from PIL import Image\n",
    "from wordcloud import WordCloud, STOPWORDS"
   ]
  },
  {
   "cell_type": "code",
   "execution_count": 2,
   "metadata": {},
   "outputs": [],
   "source": [
    "def collect_words(df):\n",
    "    # getting all reviews into a list\n",
    "    text = df['comments'].tolist()\n",
    "            \n",
    "    # lowercasing and removing extra spaces\n",
    "    text = [x for x in text if x != '']\n",
    "    \n",
    "    # joining all text into a corpus\n",
    "    text = ' '.join(text)\n",
    "    \n",
    "    # removing non a-z characters\n",
    "    text = re.sub(r'[\\\\-_/+]+', ' ', text)\n",
    "    text = re.sub(r'[^A-Za-z ]+', '', text)\n",
    "    text = re.sub(' +', ' ', text).strip().lower()\n",
    "\n",
    "    return text\n",
    "\n",
    "def generate_wordcloud(text, title, stop_words=None):\n",
    "    # adding stopwords\n",
    "    stopwords = set(STOPWORDS)\n",
    "    \n",
    "    if stop_words != None:\n",
    "        for word in stop_words:\n",
    "            stopwords.add(word)\n",
    "\n",
    "    # setting image mask\n",
    "    mask = np.array(Image.open(f'./wordcloud/mask/{title}.png'))\n",
    "\n",
    "    # setting wordcloud params\n",
    "    wc = WordCloud(\n",
    "        font_path='./wordcloud/fonts/trebuc.ttf',\n",
    "        background_color='#1b1b1b',\n",
    "        max_font_size=1000,\n",
    "        mask=mask,\n",
    "        max_words=200,\n",
    "        colormap='Spectral',\n",
    "        stopwords=stopwords,\n",
    "        normalize_plurals=True,\n",
    "        random_state=1,\n",
    "        collocations=False\n",
    "    )\n",
    "\n",
    "    # generating wordcloud\n",
    "    wc = wc.generate(text)\n",
    "\n",
    "    # saving image\n",
    "    wc.to_file(f\"./wordcloud/output/{title}_output.png\")"
   ]
  },
  {
   "cell_type": "code",
   "execution_count": 3,
   "metadata": {},
   "outputs": [],
   "source": [
    "df = pd.read_csv('./data/clean/reviews_clean.csv')\n",
    "\n",
    "airbnb_stopwords = [\n",
    "    'place',\n",
    "    'stay',\n",
    "    'room',\n",
    "    'location',\n",
    "    'house',\n",
    "    'us',\n",
    "    'airbnb',\n",
    "    'apartment',\n",
    "    'home',\n",
    "    'host',\n",
    "    'hosts',\n",
    "    'rhode',\n",
    "    'island',\n",
    "    'great',\n",
    "    'clean'\n",
    "]"
   ]
  },
  {
   "cell_type": "code",
   "execution_count": 4,
   "metadata": {},
   "outputs": [],
   "source": [
    "# south kingstown\n",
    "sk = df[df['neighbourhood_cleansed']=='South Kingstown']\n",
    "sk = collect_words(sk)\n",
    "generate_wordcloud(sk, 'south_kingstown', airbnb_stopwords)\n",
    "\n",
    "# providence\n",
    "pvd = df[df['neighbourhood_cleansed']=='Providence']\n",
    "pvd = collect_words(pvd)\n",
    "generate_wordcloud(pvd, 'providence', airbnb_stopwords)\n",
    "\n",
    "# middletown\n",
    "mid = df[df['neighbourhood_cleansed']=='Middletown']\n",
    "mid = collect_words(mid)\n",
    "generate_wordcloud(mid, 'middletown', airbnb_stopwords)\n",
    "\n",
    "# newport\n",
    "new = df[df['neighbourhood_cleansed']=='Newport']\n",
    "new = collect_words(new)\n",
    "generate_wordcloud(new, 'newport', airbnb_stopwords)\n",
    "\n",
    "# narragansett\n",
    "nar = df[df['neighbourhood_cleansed']=='Narragansett']\n",
    "nar = collect_words(nar)\n",
    "generate_wordcloud(nar, 'narragansett', airbnb_stopwords)"
   ]
  }
 ],
 "metadata": {
  "kernelspec": {
   "display_name": "Python 3",
   "language": "python",
   "name": "python3"
  },
  "language_info": {
   "codemirror_mode": {
    "name": "ipython",
    "version": 3
   },
   "file_extension": ".py",
   "mimetype": "text/x-python",
   "name": "python",
   "nbconvert_exporter": "python",
   "pygments_lexer": "ipython3",
   "version": "3.9.5"
  }
 },
 "nbformat": 4,
 "nbformat_minor": 2
}
