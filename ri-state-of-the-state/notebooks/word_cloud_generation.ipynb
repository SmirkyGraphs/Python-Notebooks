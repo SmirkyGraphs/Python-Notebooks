{
 "cells": [
  {
   "cell_type": "markdown",
   "metadata": {},
   "source": [
    "Created by: [SmirkyGraphs](https://smirkygraphs.github.io/). Code: [GitHub](https://github.com/SmirkyGraphs/Python-Notebooks). Source: [ri.gov](http://www.governor.ri.gov/newsroom/speeches/index.php).\n",
    "<hr>"
   ]
  },
  {
   "cell_type": "markdown",
   "metadata": {},
   "source": [
    "# State of the State Wordcloud Generator"
   ]
  },
  {
   "cell_type": "markdown",
   "metadata": {},
   "source": [
    "This notebook contains code used to create word clouds using the text of a state of the state address. The word clouds are the top 250 most common words with common words and stopwords removed. All words are converted into lowercase with punctuation and special characters removed."
   ]
  },
  {
   "cell_type": "code",
   "execution_count": 1,
   "metadata": {},
   "outputs": [],
   "source": [
    "import re\n",
    "import numpy as np\n",
    "import pandas as pd\n",
    "\n",
    "from PIL import Image\n",
    "from wordcloud import WordCloud, STOPWORDS"
   ]
  },
  {
   "cell_type": "code",
   "execution_count": 2,
   "metadata": {},
   "outputs": [],
   "source": [
    "def collect_words(df, year, stop=False):\n",
    "    all_text = []\n",
    "    \n",
    "    cols = ['words', 'stopword']\n",
    "    cols.append(year)\n",
    "    \n",
    "    df = df[cols]\n",
    "    df = df[df[year] > 0]\n",
    "    \n",
    "    if stop == True:\n",
    "        df = df[df['stopword'] != 'Stopword']\n",
    "    \n",
    "    for i, row in df.iterrows():\n",
    "        word = row['words']\n",
    "        count = int(row[year])\n",
    "\n",
    "        total_word = [word]*count\n",
    "        [all_text.append(word) for word in total_word]\n",
    "\n",
    "    text = ' '.join(all_text)\n",
    "    \n",
    "    return text"
   ]
  },
  {
   "cell_type": "code",
   "execution_count": 3,
   "metadata": {},
   "outputs": [],
   "source": [
    "def generate_wordcloud(text, title, stop_words=None):\n",
    "    \n",
    "    # adding stopwords\n",
    "    stopwords = set(STOPWORDS)\n",
    "    \n",
    "    if stop_words != None:\n",
    "        for word in stop_words:\n",
    "            stopwords.add(word)\n",
    "\n",
    "    # setting image mask\n",
    "    mask = np.array(Image.open('../files/mask/rhode_island.png'))\n",
    "\n",
    "    # setting wordcloud params\n",
    "    wc = WordCloud(\n",
    "        font_path='../files/font/trebuc.ttf',\n",
    "        background_color='#1b1b1b',\n",
    "        max_font_size=1000,\n",
    "        mask=mask,\n",
    "        max_words=250,\n",
    "        colormap='Spectral',\n",
    "        stopwords=stopwords,\n",
    "        normalize_plurals=True,\n",
    "        random_state=1,\n",
    "        collocations=False\n",
    "    )\n",
    "\n",
    "    # generating wordcloud\n",
    "    wc = wc.generate(text)\n",
    "\n",
    "    # saving image\n",
    "    wc.to_file(f\"../output/wordcloud/{title}_output.png\")"
   ]
  },
  {
   "cell_type": "code",
   "execution_count": 4,
   "metadata": {},
   "outputs": [],
   "source": [
    "# load the data to get words by topic\n",
    "df = pd.read_csv('../output/word_count/clean/word_counts_combined.csv')\n",
    "\n",
    "# get works and make wordcloud\n",
    "words = collect_words(df, '2022', stop=True)\n",
    "generate_wordcloud(words, '2022_sots', ['state'])"
   ]
  }
 ],
 "metadata": {
  "kernelspec": {
   "display_name": "Python 3 (ipykernel)",
   "language": "python",
   "name": "python3"
  },
  "language_info": {
   "codemirror_mode": {
    "name": "ipython",
    "version": 3
   },
   "file_extension": ".py",
   "mimetype": "text/x-python",
   "name": "python",
   "nbconvert_exporter": "python",
   "pygments_lexer": "ipython3",
   "version": "3.9.5"
  }
 },
 "nbformat": 4,
 "nbformat_minor": 2
}
