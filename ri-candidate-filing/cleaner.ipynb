{
 "cells": [
  {
   "cell_type": "markdown",
   "id": "ae9458c1",
   "metadata": {},
   "source": [
    "Created by: [SmirkyGraphs](https://smirkygraphs.github.io/). Code: [Github](https://github.com/SmirkyGraphs/Python-Notebooks). Source: [sos.ri.gov](https://vote.sos.ri.gov/).\n",
    "<hr>"
   ]
  },
  {
   "cell_type": "markdown",
   "id": "376506df",
   "metadata": {},
   "source": [
    "# Rhode Island Candidate Cleaning\n",
    "\n",
    "The code below is used to clean the raw information collected by `scraper.ipynb`. This currently only cleans the House and Seante General Assembly data. This combines the primary and general to get a count of total candidates by race, along with information regarding any challengers for the REP & DEM primary, and if there is another party/independent candidate in the general.\n",
    "\n",
    "<hr>"
   ]
  },
  {
   "cell_type": "code",
   "execution_count": 1,
   "id": "8e6b1775",
   "metadata": {},
   "outputs": [],
   "source": [
    "import pandas as pd\n",
    "import numpy as np"
   ]
  },
  {
   "cell_type": "code",
   "execution_count": 2,
   "id": "2462d7c0",
   "metadata": {},
   "outputs": [],
   "source": [
    "def get_challengers(df):\n",
    "    df['dem_cand'] = np.where(df['Democrat'] > 0, True, False)\n",
    "    df['rep_cand'] = np.where(df['Republican'] > 0, True, False)\n",
    "\n",
    "    df['dem_primary_chal'] = np.where(df['Democrat'] > 1, True, False)\n",
    "    df['rep_primary_chal'] = np.where(df['Republican'] > 1, True, False)\n",
    "    \n",
    "    cols = ['Democrat', 'Republican', 'Independent']\n",
    "    df['general_chal'] = np.where((df[cols] > 0).sum(axis=1) > 1, True, False)\n",
    "    \n",
    "    return df\n",
    "\n",
    "def combine_elections(df1, df2):\n",
    "    # get a count of independents by district\n",
    "    df2 = df2.groupby('District').size().reset_index(name='Independent')\n",
    "    \n",
    "    # get a count by part & merge independent\n",
    "    df = (df1\n",
    "     .groupby(['Party', 'District']).size()\n",
    "     .reset_index()\n",
    "     .pivot_table(index='District', columns='Party', values=0)\n",
    "     .reset_index()\n",
    "     .merge(df2, how='left', on='District')\n",
    "     .fillna(0)\n",
    "    )\n",
    "    \n",
    "    # get challengers\n",
    "    df = get_challengers(df)\n",
    "    \n",
    "    return df"
   ]
  },
  {
   "cell_type": "code",
   "execution_count": 3,
   "id": "851511c1",
   "metadata": {},
   "outputs": [],
   "source": [
    "# state represenatives\n",
    "df1 = pd.read_csv('./data/raw/primary/statewide/representative_in_general_assembly.csv')\n",
    "df2 = pd.read_csv('./data/raw/general/statewide/representative_in_general_assembly.csv')\n",
    "df = combine_elections(df1, df2)\n",
    "df.to_csv('./data/clean/rep_gen_assem_challengers.csv', index=False)\n",
    "\n",
    "# state senators\n",
    "df1 = pd.read_csv('./data/raw/primary/statewide/senator_in_general_assembly.csv')\n",
    "df2 = pd.read_csv('./data/raw/general/statewide/senator_in_general_assembly.csv')\n",
    "df = combine_elections(df1, df2)\n",
    "df.to_csv('./data/clean/sen_gen_assem_challengers.csv', index=False)"
   ]
  }
 ],
 "metadata": {
  "kernelspec": {
   "display_name": "Python 3 (ipykernel)",
   "language": "python",
   "name": "python3"
  },
  "language_info": {
   "codemirror_mode": {
    "name": "ipython",
    "version": 3
   },
   "file_extension": ".py",
   "mimetype": "text/x-python",
   "name": "python",
   "nbconvert_exporter": "python",
   "pygments_lexer": "ipython3",
   "version": "3.9.5"
  }
 },
 "nbformat": 4,
 "nbformat_minor": 5
}
