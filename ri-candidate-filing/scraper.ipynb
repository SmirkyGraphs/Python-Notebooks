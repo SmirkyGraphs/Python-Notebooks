{
 "cells": [
  {
   "cell_type": "markdown",
   "id": "43b82aa0",
   "metadata": {},
   "source": [
    "Created by: [SmirkyGraphs](https://smirkygraphs.github.io/). Code: [Github](https://github.com/SmirkyGraphs/Python-Notebooks). Source: [sos.ri.gov](https://vote.sos.ri.gov/).\n",
    "<hr>"
   ]
  },
  {
   "cell_type": "markdown",
   "id": "7fda3bef",
   "metadata": {},
   "source": [
    "# Rhode Island Candidate Scraper\n",
    "\n",
    "The code below is used to get all information related to candidate filings from the secretary of state website. This is used for collecting both primary and general election information. Primary will show candidate challengers by party and General election will show independent candidates for the chosen office. The data is saved in the `/data/raw/` folder for later cleaning & analysis.\n",
    "\n",
    "<hr>"
   ]
  },
  {
   "cell_type": "code",
   "execution_count": 1,
   "id": "36b2db8e",
   "metadata": {},
   "outputs": [],
   "source": [
    "import time\n",
    "import json\n",
    "import pandas as pd\n",
    "from pathlib import Path\n",
    "\n",
    "from selenium import webdriver\n",
    "from selenium.webdriver.chrome.service import Service\n",
    "from selenium.webdriver.chrome.options import Options\n",
    "from selenium.webdriver.common.by import By\n",
    "\n",
    "from fake_useragent import UserAgent"
   ]
  },
  {
   "cell_type": "code",
   "execution_count": 2,
   "id": "6cb00786",
   "metadata": {},
   "outputs": [],
   "source": [
    "def get_contest_table(con, election):\n",
    "    url = f'{base_url}/CandidateSearchSummary?OfficeType={con}&Election={election}'\n",
    "    driver.get(url)\n",
    "    \n",
    "    try: driver.find_element(By.TAG_NAME, value=\"table\")\n",
    "    except: return None\n",
    "    \n",
    "    # get table data\n",
    "    table = driver.find_element(By.TAG_NAME, value=\"table\")\n",
    "    df = pd.read_html(table.get_attribute('outerHTML'))[0]\n",
    "    \n",
    "    return df\n",
    "\n",
    "def get_contests(elect_id):\n",
    "    # get office ids\n",
    "    url = f'{base_url}/GetOfficesForElection/?ElectionID={elect_id}'\n",
    "    driver.get(url)\n",
    "\n",
    "    pre = driver.find_element(By.TAG_NAME, value=\"pre\").text\n",
    "    return json.loads(pre)\n",
    "\n",
    "def get_city_table(city_id, election):\n",
    "    city_id = str(city_id).zfill(5)\n",
    "    url = f'{base_url}/CandidateSearchSummary?CityTown={city_id}&Election={election}'\n",
    "    driver.get(url)\n",
    "    \n",
    "    try: driver.find_element(By.TAG_NAME, value=\"table\")\n",
    "    except: return None\n",
    "    \n",
    "    # get table data\n",
    "    table = driver.find_element(By.TAG_NAME, value=\"table\")\n",
    "    df = pd.read_html(table.get_attribute('outerHTML'))[0]\n",
    "    \n",
    "    return df"
   ]
  },
  {
   "cell_type": "code",
   "execution_count": 3,
   "id": "9999c319",
   "metadata": {},
   "outputs": [],
   "source": [
    "with open('./data/files/cities.json', 'r') as f:\n",
    "    cities = json.load(f)\n",
    "\n",
    "ua = UserAgent()\n",
    "options = Options()\n",
    "\n",
    "options.add_argument(f'user-agent={ua.random}')\n",
    "s = Service('your-chromedriver.exe')\n",
    "driver = webdriver.Chrome(options=options, service=s)"
   ]
  },
  {
   "cell_type": "code",
   "execution_count": 4,
   "id": "e6ee2883",
   "metadata": {},
   "outputs": [],
   "source": [
    "base_url = 'https://vote.sos.ri.gov/Candidates'\n",
    "election_ids = [16997, 18103]"
   ]
  },
  {
   "cell_type": "code",
   "execution_count": 5,
   "id": "a6c031b2",
   "metadata": {},
   "outputs": [],
   "source": [
    "for election in election_ids:\n",
    "    contests = get_contests(election)\n",
    "    \n",
    "    for con in contests:\n",
    "        # get table\n",
    "        name = con['Text'].lower().replace(' ', '_')\n",
    "        df = get_contest_table(con['Value'], election)\n",
    "        \n",
    "        if df is not None:\n",
    "            # save table\n",
    "            Path(f'./data/raw/{election}/statewide/').mkdir(parents=True, exist_ok=True)\n",
    "            df.to_csv(f'./data/raw/{election}/statewide/{name}.csv', index=False)\n",
    "\n",
    "            # wait a few seconds\n",
    "            time.sleep(5)\n",
    "\n",
    "    for city in cities:\n",
    "        name = city['location'].lower().replace(' ', '_')\n",
    "        df = get_city_table(city['id'], election)\n",
    "        \n",
    "        if df is not None:\n",
    "            Path(f'./data/raw/{election}/location/').mkdir(parents=True, exist_ok=True)\n",
    "            df.to_csv(f'./data/raw/{election}/location/{name}.csv', index=False)\n",
    "\n",
    "            # wait a few seconds\n",
    "            time.sleep(5)"
   ]
  }
 ],
 "metadata": {
  "kernelspec": {
   "display_name": "Python 3 (ipykernel)",
   "language": "python",
   "name": "python3"
  },
  "language_info": {
   "codemirror_mode": {
    "name": "ipython",
    "version": 3
   },
   "file_extension": ".py",
   "mimetype": "text/x-python",
   "name": "python",
   "nbconvert_exporter": "python",
   "pygments_lexer": "ipython3",
   "version": "3.9.5"
  }
 },
 "nbformat": 4,
 "nbformat_minor": 5
}
