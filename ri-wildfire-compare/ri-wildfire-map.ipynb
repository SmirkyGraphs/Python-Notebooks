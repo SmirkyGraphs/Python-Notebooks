{
 "cells": [
  {
   "cell_type": "markdown",
   "id": "02dd9472",
   "metadata": {},
   "source": [
    "Created by: [SmirkyGraphs](https://smirkygraphs.github.io/). Code: [Github](https://github.com/SmirkyGraphs/Python-Notebooks). Source: [fire.ca.gov](https://www.fire.ca.gov/what-we-do/fire-resource-assessment-program/gis-mapping-and-data-analytics).\n",
    "<hr>"
   ]
  },
  {
   "cell_type": "markdown",
   "id": "7c119d15",
   "metadata": {},
   "source": [
    "# Rhode Island Wildfire Compare\n",
    "\n",
    "The code below is used to clean the raw information collected by the [California Department of Forestry and Fire Protection](https://www.fire.ca.gov/what-we-do/fire-resource-assessment-program/gis-mapping-and-data-analytics) and [Canadian Wildland Fire Information System](https://cwfis.cfs.nrcan.gc.ca/). The code gathers the largest fires, shifts and reporjects them over Rhode Island to easily compare the size with the smallest state. The polygons are then simplified using topojson to make for a faster loading web experience and the details of the fires are saved to json.\n",
    "\n",
    "**The Canandian fires were added recently and only reflect active fires for 2023 not a history of older fires like the California dataset*  \n",
    "**The Canandian fires were limited to top 10, because the fires lack names in the dataset the uid was used*\n",
    "<hr>\n"
   ]
  },
  {
   "cell_type": "code",
   "execution_count": 1,
   "id": "451a36e7",
   "metadata": {},
   "outputs": [],
   "source": [
    "import requests\n",
    "import pandas as pd\n",
    "import geopandas as gpd\n",
    "import topojson as tp\n",
    "\n",
    "import warnings\n",
    "from shapely.errors import ShapelyDeprecationWarning\n",
    "warnings.filterwarnings(\"ignore\", category=ShapelyDeprecationWarning) "
   ]
  },
  {
   "cell_type": "code",
   "execution_count": 2,
   "id": "34b375a9",
   "metadata": {},
   "outputs": [],
   "source": [
    "# functions to shift polygons to RI location\n",
    "def shift_distance(centroid):\n",
    "    if centroid.y > ri_y:\n",
    "        return [abs(centroid.x - ri_x), -abs(centroid.y - ri_y)]   \n",
    "        \n",
    "    return [abs(centroid.x - ri_x), abs(centroid.y - ri_y)]  \n",
    "\n",
    "def shift_polygon(geom):\n",
    "    centroid = geom.centroid\n",
    "    shift = shift_distance(centroid)\n",
    "    \n",
    "    gs = gpd.GeoSeries(geom)\n",
    "    gs = gs.translate(shift[0], shift[1])\n",
    "\n",
    "    return gs[0]"
   ]
  },
  {
   "cell_type": "code",
   "execution_count": 3,
   "id": "d9e7a8d4",
   "metadata": {},
   "outputs": [],
   "source": [
    "def simplify_geo(df):\n",
    "    gdf = gpd.GeoSeries(df['geometry'])\n",
    "    topo = tp.Topology(gdf, prequantize=False)\n",
    "    gdf = topo.toposimplify(50).to_gdf()\n",
    "    df['geometry'] = gdf['geometry'].values\n",
    "    \n",
    "    return df\n",
    "\n",
    "def combine_overlap(df):\n",
    "    df = df.explode(index_parts=False)\n",
    "    df['geometry'] = df['geometry'].make_valid()\n",
    "    df = df[df['geometry'].is_valid]\n",
    "    df = df.dissolve(by='FIRE_NAME').reset_index()\n",
    "    \n",
    "    return df\n",
    "\n",
    "def convert_crs(df):\n",
    "    df['geometry'] = df['geometry'].to_crs(epsg=4326)\n",
    "    \n",
    "    return df\n",
    "\n",
    "def sort_values(df):\n",
    "    df = df.sort_values(by='GIS_ACRES', ascending=False)\n",
    "    \n",
    "    return df"
   ]
  },
  {
   "cell_type": "code",
   "execution_count": 4,
   "id": "09b20128",
   "metadata": {},
   "outputs": [],
   "source": [
    "# download active fire data from canada\n",
    "url = 'https://cwfis.cfs.nrcan.gc.ca/downloads/hotspots'\n",
    "shp_ext = ['dbf', 'prj', 'shp', 'shx']\n",
    "\n",
    "for ext in shp_ext:\n",
    "    r = requests.get(f'{url}/perimeters.{ext}')\n",
    "    with open(f'./data/raw/canada/perimeters.{ext}', 'wb') as f:\n",
    "        f.write(r.content)"
   ]
  },
  {
   "cell_type": "code",
   "execution_count": 5,
   "id": "4f0fb6fd",
   "metadata": {},
   "outputs": [],
   "source": [
    "# get center of RI to shift polygons\n",
    "ri = gpd.read_file('./data/raw/State_Boundary_(1997).json', layer=0)\n",
    "ri = ri[ri['geometry'] != None]\n",
    "ri['state'] = 'ri'\n",
    "ri = ri.dissolve(by='state')\n",
    "ri = ri.to_crs(\"epsg:4087\")\n",
    "\n",
    "ri_x = ri.centroid[0].x\n",
    "ri_y = ri.centroid[0].y"
   ]
  },
  {
   "cell_type": "code",
   "execution_count": 6,
   "id": "ebb61d4d",
   "metadata": {},
   "outputs": [],
   "source": [
    "# load cali data clean & prep top 20\n",
    "df = gpd.read_file('./data/raw/california/fire22_1.gdb', layer='firep22_1')\n",
    "df = df.sort_values(by='Shape_Area', ascending=False).head(20)\n",
    "df['geometry'] = df['geometry'].to_crs(epsg=4087)\n",
    "\n",
    "df['FIRE_NAME'] = df['FIRE_NAME'].str.lower()\n",
    "df['GIS_ACRES'] = df['GIS_ACRES'].astype(int)\n",
    "\n",
    "df['geometry'] = df['geometry'].apply(shift_polygon)\n",
    "\n",
    "cali = (df\n",
    "    .pipe(simplify_geo)\n",
    "    .pipe(combine_overlap)\n",
    "    .pipe(convert_crs)\n",
    ")"
   ]
  },
  {
   "cell_type": "code",
   "execution_count": 7,
   "id": "ffaace23",
   "metadata": {},
   "outputs": [],
   "source": [
    "# load canada data clean & prep top 10\n",
    "df = gpd.read_file('./data/raw/canada/perimeters.shp')\n",
    "df['GIS_ACRES'] = (df['AREA'] * 2.471).astype(int)\n",
    "df = df.sort_values(by='AREA', ascending=False).head(10)\n",
    "\n",
    "# get canadian provinces\n",
    "province = gpd.read_file('./data/raw/canada_province.zip')\n",
    "province = province[['PRENAME', 'geometry']]\n",
    "province = province.to_crs(df.crs)\n",
    "\n",
    "# join province and drop duplicates\n",
    "df = df.sjoin(province, how='left', predicate='intersects')\n",
    "df = df.drop_duplicates(subset='UID')\n",
    "\n",
    "df['geometry'] = df['geometry'].to_crs(epsg=4087)\n",
    "df['geometry'] = df['geometry'].apply(shift_polygon)\n",
    "\n",
    "# normalize names and types to match cali dataset\n",
    "df = df.rename(columns={'UID': 'FIRE_NAME', 'FIRSTDATE': 'ALARM_DATE', 'LASTDATE': 'CONT_DATE'})\n",
    "df['FIRE_NAME'] = df['FIRE_NAME'].astype(str)\n",
    "\n",
    "ca = (df\n",
    "    .pipe(simplify_geo)\n",
    "    .pipe(combine_overlap)\n",
    "    .pipe(convert_crs)\n",
    ")"
   ]
  },
  {
   "cell_type": "code",
   "execution_count": 8,
   "id": "fbbd2287",
   "metadata": {},
   "outputs": [],
   "source": [
    "# loop over each cali fire name and save the file as geojson\n",
    "df = cali.copy()\n",
    "for name in df['FIRE_NAME'].unique():\n",
    "    temp_df = df[df['FIRE_NAME'] == name]\n",
    "    fname = name.strip().replace(' ', '-')\n",
    "    temp_df.to_file(f'./data/clean/50/{fname}.geojson', driver='GeoJSON')\n",
    "    \n",
    "# format dates\n",
    "df['ALARM_DATE'] = pd.to_datetime(df['ALARM_DATE']).dt.strftime('%#m/%d/%Y')\n",
    "df['CONT_DATE'] = pd.to_datetime(df['CONT_DATE']).dt.strftime('%#m/%d/%Y')\n",
    "\n",
    "df['ALARM_DATE'] = df['ALARM_DATE'].astype(str)\n",
    "df['CONT_DATE'] = df['CONT_DATE'].astype(str)\n",
    "df['CONT_DATE'] = df['CONT_DATE'].fillna('(N/A)')\n",
    "\n",
    "# rename year col re-sort\n",
    "df = df.sort_values(by='GIS_ACRES', ascending=False)\n",
    "\n",
    "cols = ['FIRE_NAME', 'ALARM_DATE', 'CONT_DATE', 'GIS_ACRES']\n",
    "df[cols].to_json('./data/clean/california.json', orient='records')"
   ]
  },
  {
   "cell_type": "code",
   "execution_count": 9,
   "id": "601c8e1d",
   "metadata": {
    "scrolled": false
   },
   "outputs": [],
   "source": [
    "# loop over each canada fire id and save the file as geojson\n",
    "df = ca.copy()\n",
    "for name in df['FIRE_NAME'].unique():\n",
    "    temp_df = df[df['FIRE_NAME'] == name]\n",
    "    fname = name.strip().replace(' ', '-')\n",
    "    temp_df.to_file(f'./data/clean/50/{fname}.geojson', driver='GeoJSON')\n",
    "    \n",
    "# format dates\n",
    "df['ALARM_DATE'] = pd.to_datetime(df['ALARM_DATE']).dt.strftime('%#m/%d/%Y')\n",
    "df['CONT_DATE'] = pd.to_datetime(df['CONT_DATE']).dt.strftime('%#m/%d/%Y')\n",
    "\n",
    "df['ALARM_DATE'] = df['ALARM_DATE'].astype(str)\n",
    "df['CONT_DATE'] = df['CONT_DATE'].astype(str)\n",
    "df['CONT_DATE'] = df['CONT_DATE'].fillna('(N/A)')\n",
    "\n",
    "# re sort\n",
    "df = df.sort_values(by='GIS_ACRES', ascending=False)\n",
    "\n",
    "# add a new name for dropdown (province -> rank)\n",
    "df['PRENAME'] = df['PRENAME'].str.replace('North West', 'NW')\n",
    "df['region_id'] = df.groupby('PRENAME').cumcount() + 1\n",
    "df['DROP_NAME'] = df['PRENAME'] + \" - \" + df['region_id'].astype(str)\n",
    "\n",
    "cols = ['FIRE_NAME', 'DROP_NAME', 'ALARM_DATE', 'CONT_DATE', 'GIS_ACRES']\n",
    "df[cols].to_json('./data/clean/canada.json', orient='records')"
   ]
  }
 ],
 "metadata": {
  "kernelspec": {
   "display_name": "Python 3 (ipykernel)",
   "language": "python",
   "name": "python3"
  },
  "language_info": {
   "codemirror_mode": {
    "name": "ipython",
    "version": 3
   },
   "file_extension": ".py",
   "mimetype": "text/x-python",
   "name": "python",
   "nbconvert_exporter": "python",
   "pygments_lexer": "ipython3",
   "version": "3.9.5"
  }
 },
 "nbformat": 4,
 "nbformat_minor": 5
}
