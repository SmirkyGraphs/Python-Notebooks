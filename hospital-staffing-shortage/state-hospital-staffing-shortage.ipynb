{
 "cells": [
  {
   "cell_type": "markdown",
   "id": "644183dd",
   "metadata": {},
   "source": [
    "Created by: [SmirkyGraphs](https://smirkygraphs.github.io/). Code: [Github](https://github.com/SmirkyGraphs/Python-Notebooks). Source: [HHS](https://healthdata.gov/Hospital/COVID-19-Reported-Patient-Impact-and-Hospital-Capa/anag-cw7u).\n",
    "<hr>"
   ]
  },
  {
   "cell_type": "markdown",
   "id": "77590fe4",
   "metadata": {},
   "source": [
    "# Rhode Island Hospital Staffing Shortage\n",
    "\n",
    "In December 2021, hospital leaders have warned of [a crisis](https://www.wpri.com/health/coronavirus/an-unprecedented-crisis-at-hospitals-in-ri-amid-covid-surge-staff-shortage/) and overcrowding. While neither RIDOH, or the hospitals themselves release icu/total beds available/used, HHS tracks many metrics that can be used to gage staffing in individual hospitals. This notebook will focus specifically on the largest, being Rhode Island Hospital.\n",
    "\n",
    "Starting at the end of July 2020 HHS started collecting weekly numbers on hospitals regarding beds/staffing and covid numbers weekly. This notebook will collect data from HHS's \"COVID-19 Reported Patient Impact and Hospital Capacity by Facility\" dataset to pull weekly average number of ICU and inpatent beds.\n",
    "\n",
    "<hr>"
   ]
  },
  {
   "cell_type": "code",
   "execution_count": 1,
   "id": "d40206d4",
   "metadata": {},
   "outputs": [],
   "source": [
    "import pandas as pd\n",
    "\n",
    "def scrape_hhs_data(state):\n",
    "    # https://healthdata.gov/Hospital/COVID-19-Reported-Patient-Impact-and-Hospital-Capa/anag-cw7u # prepped\n",
    "    # https://healthdata.gov/Hospital/COVID-19-Reported-Patient-Impact-and-Hospital-Capa/uqq2-txqb # raw\n",
    "    url = f'https://healthdata.gov/resource/anag-cw7u.csv?state={state}' # hospital-level data\n",
    "    df = pd.read_csv(url, parse_dates=['collection_week'])\n",
    "    df = df.replace(-999999, None) # -999999 = \"same as ri's small number policy\"\n",
    "    df.to_csv(f'./data/raw/state/{state}-hhs-hospital-level.csv', index=False)\n",
    "\n",
    "    # https://healthdata.gov/Hospital/COVID-19-Reported-Patient-Impact-and-Hospital-Capa/g62h-syeh \n",
    "    url = f'https://healthdata.gov/resource/g62h-syeh.csv?state={state}' # state-level data\n",
    "    df = pd.read_csv(url, parse_dates=['date']).sort_values(by='date')\n",
    "\n",
    "    print('[status] hhs data collected')\n",
    "    df.to_csv(f'./data/raw/state/{state}-hhs-state-level.csv', index=False)"
   ]
  },
  {
   "cell_type": "code",
   "execution_count": 2,
   "id": "aa26a4a3",
   "metadata": {},
   "outputs": [
    {
     "name": "stdout",
     "output_type": "stream",
     "text": [
      "[status] hhs data collected\n"
     ]
    }
   ],
   "source": [
    "scrape_hhs_data('RI')"
   ]
  },
  {
   "cell_type": "code",
   "execution_count": 3,
   "id": "bd5e8930",
   "metadata": {
    "scrolled": false
   },
   "outputs": [],
   "source": [
    "df = pd.read_csv('./data/raw/state/RI-hhs-hospital-level.csv', parse_dates=['collection_week'])\n",
    "\n",
    "cols = [\n",
    "    'total_icu_beds_7_day_avg',\n",
    "    'inpatient_beds_7_day_avg'\n",
    "]\n",
    "\n",
    "df = df.groupby(['hospital_name', 'collection_week'])[cols].sum().reset_index()\n",
    "df = df[df['hospital_name'].str.contains('RHODE ISLAND HOSPITAL')]"
   ]
  },
  {
   "cell_type": "code",
   "execution_count": 4,
   "id": "4b2104f4",
   "metadata": {
    "scrolled": false
   },
   "outputs": [],
   "source": [
    "df.to_csv('./data/clean/ri-hospital-beds.csv', index=False)"
   ]
  }
 ],
 "metadata": {
  "kernelspec": {
   "display_name": "Python 3 (ipykernel)",
   "language": "python",
   "name": "python3"
  },
  "language_info": {
   "codemirror_mode": {
    "name": "ipython",
    "version": 3
   },
   "file_extension": ".py",
   "mimetype": "text/x-python",
   "name": "python",
   "nbconvert_exporter": "python",
   "pygments_lexer": "ipython3",
   "version": "3.9.5"
  }
 },
 "nbformat": 4,
 "nbformat_minor": 5
}
