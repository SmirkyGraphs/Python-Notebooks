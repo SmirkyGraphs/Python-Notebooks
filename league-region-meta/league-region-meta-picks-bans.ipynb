{
 "cells": [
  {
   "cell_type": "markdown",
   "metadata": {},
   "source": [
    "Created by: [SmirkyGraphs](https://smirkygraphs.github.io/). Code: [Github](https://github.com/SmirkyGraphs/Python-Notebooks). Source: [oracleselixir.com](https://oracleselixir.com/tools/downloads).\n",
    "<hr>"
   ]
  },
  {
   "cell_type": "markdown",
   "metadata": {},
   "source": [
    "# League of Legends Regions Picks + Bans\n",
    "\n",
    "This Notebook contains code releated to the data cleaning and calculations for my [Tableau Dashboard](). This looks at how often each champion was picked, banned, how often that champion won and what role it was played in the most. As every region plays a different number of games, the position of each champion is normalized as pick+banned per 100 games (the `normalize` function below) which takes picked count, banned count and total games played for each region and returns a series of picked/banned rate.\n",
    "<hr>"
   ]
  },
  {
   "cell_type": "code",
   "execution_count": 1,
   "metadata": {},
   "outputs": [],
   "source": [
    "import pandas as pd\n",
    "\n",
    "def normalize(row):\n",
    "    x, y, games = row\n",
    "\n",
    "    x = (x/games) * 100\n",
    "    y = (y/games) * 100\n",
    "\n",
    "    return pd.Series([x, y])"
   ]
  },
  {
   "cell_type": "code",
   "execution_count": 2,
   "metadata": {},
   "outputs": [],
   "source": [
    "# load data ( from oracle elixer )\n",
    "df = pd.read_csv('./data/raw/2021.csv', parse_dates=['date'])\n",
    "\n",
    "# wanted regions\n",
    "df = df[df['league'].isin(['LCS', 'LEC', 'LPL', 'LCK', 'CBLOL', 'LCO', 'LJL'])]\n",
    "\n",
    "# get total games by regions\n",
    "region_games = df.groupby('league')['gameid'].nunique().to_frame()\n",
    "region_games = region_games.rename(columns={'gameid': 'games_count'}).reset_index()\n",
    "\n",
    "# remove no champions ( i think these are team totals? )\n",
    "df = df[~df['champion'].isnull()]\n",
    "\n",
    "# get most common role for each champion\n",
    "role = df.groupby(['champion', 'position']).size().reset_index()\n",
    "role = role.sort_values(by=0, ascending=False).drop(columns=[0])\n",
    "role.to_csv('./data/files/champ_role.csv', index=False)"
   ]
  },
  {
   "cell_type": "code",
   "execution_count": 3,
   "metadata": {},
   "outputs": [],
   "source": [
    "# get total picked by region\n",
    "picked = df.groupby(['league', 'champion']).size().reset_index()\n",
    "picked = picked.rename(columns={0: 'picked_count'}).merge(region_games)\n",
    "picked['pick_percent'] = picked['picked_count']/picked['games_count']\n",
    "\n",
    "# get winrate by champion\n",
    "win = df.groupby(['league', 'champion'])['result'].sum().reset_index()\n",
    "win = win.rename(columns={'result': 'win_count'}).merge(picked[['league', 'champion', 'picked_count']])\n",
    "win['win_percent'] = win['win_count']/win['picked_count']"
   ]
  },
  {
   "cell_type": "code",
   "execution_count": 4,
   "metadata": {},
   "outputs": [],
   "source": [
    "# get total bans by region\n",
    "cols = ['gameid', 'side', 'league', 'ban1', 'ban2', 'ban3', 'ban4', 'ban5']\n",
    "bans = df[cols].copy().drop_duplicates()\n",
    "\n",
    "bans = bans.melt(id_vars=['gameid', 'side', 'league']).rename(columns={'value': 'champion'})\n",
    "bans = bans.drop(columns=['side', 'variable'])\n",
    "bans = bans[~bans['champion'].isnull()].drop_duplicates()\n",
    "\n",
    "total_bans = bans.groupby(['league', 'champion']).size().reset_index()\n",
    "total_bans = total_bans.rename(columns={0: 'ban_count'}).merge(region_games)\n",
    "total_bans['ban_percent'] = total_bans['ban_count']/total_bans['games_count']\n",
    "total_bans = total_bans.drop(columns=['games_count'])"
   ]
  },
  {
   "cell_type": "code",
   "execution_count": 5,
   "metadata": {},
   "outputs": [],
   "source": [
    "# merge picks and bans together\n",
    "pick_ban = picked.merge(total_bans, on=['league', 'champion'], how='outer').merge(region_games).fillna(0)\n",
    "\n",
    "pick_ban['pick_or_ban'] = pick_ban['picked_count'] + pick_ban['ban_count']\n",
    "pick_ban['pick_ban_pct'] = pick_ban['pick_or_ban']/pick_ban['games_count']\n",
    "\n",
    "# noramlize by games played\n",
    "pick_ban[['pick_rate', 'ban_rate']] = pick_ban[['picked_count', 'ban_count', 'games_count']].apply(normalize, axis=1)\n",
    "\n",
    "# add winrate to picks + bans\n",
    "pick_ban = pick_ban.merge(win)\n",
    "\n",
    "# save file\n",
    "pick_ban.to_csv('./data/clean/pick_bans.csv', index=False)"
   ]
  }
 ],
 "metadata": {
  "kernelspec": {
   "display_name": "Python 3",
   "language": "python",
   "name": "python3"
  },
  "language_info": {
   "codemirror_mode": {
    "name": "ipython",
    "version": 3
   },
   "file_extension": ".py",
   "mimetype": "text/x-python",
   "name": "python",
   "nbconvert_exporter": "python",
   "pygments_lexer": "ipython3",
   "version": "3.6.5"
  }
 },
 "nbformat": 4,
 "nbformat_minor": 2
}
